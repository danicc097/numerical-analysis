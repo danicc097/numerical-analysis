{
 "cells": [
  {
   "attachments": {},
   "cell_type": "markdown",
   "metadata": {},
   "source": [
    "# Example 1 - CHapter 4 \n",
    "\n",
    "Leather Limited manufactures two types of belts: the deluxe model and the regular model.\n",
    "Each type requires 1 sq yd of leather. A regular belt requires 1 hour of skilled labor, and\n",
    "a deluxe belt requires 2 hours. Each week, 40 sq yd of leather and 60 hours of skilled la-\n",
    "bor are available. Each regular belt contributes \\$3 to profit and each deluxe belt, \n",
    "\\$4. If\n",
    "we define\n",
    "\n",
    "$x1$ = number of deluxe belts produced weekly\n",
    "\n",
    "$x2$ = number of regular belts produced weekly\n",
    "\n",
    "the appropriate LP is\n",
    "\n",
    "max z = 4x1 + 3x2\n",
    "\n",
    "s.t.\n",
    "\n",
    "x1 = x2 + 40 (Leather constraint)\n",
    "\n",
    "2x1 = x2 + 60 (Labor constraint)\n",
    "\n",
    "x1, x2 >= 0"
   ]
  },
  {
   "cell_type": "code",
   "execution_count": 17,
   "metadata": {},
   "outputs": [
    {
     "ename": "",
     "evalue": "",
     "output_type": "error",
     "traceback": [
      "\u001b[1;31mCanceled future for execute_request message before replies were done"
     ]
    },
    {
     "ename": "",
     "evalue": "",
     "output_type": "error",
     "traceback": [
      "\u001b[1;31mThe Kernel crashed while executing code in the the current cell or a previous cell. Please review the code in the cell(s) to identify a possible cause of the failure. Click <a href='https://aka.ms/vscodeJupyterKernelCrash'>here</a> for more info. View Jupyter <a href='command:jupyter.viewOutput'>log</a> for further details."
     ]
    }
   ],
   "source": [
    "from ortools.init import pywrapinit\n",
    "\n",
    "pywrapinit.CppBridge.InitLogging('Operations-Research-Winston.ipynb')\n",
    "cpp_flags = pywrapinit.CppFlags()\n",
    "cpp_flags.logtostderr = True\n",
    "cpp_flags.log_prefix = False\n",
    "pywrapinit.CppBridge.SetFlags(cpp_flags)"
   ]
  },
  {
   "cell_type": "code",
   "execution_count": null,
   "metadata": {},
   "outputs": [
    {
     "name": "stdout",
     "output_type": "stream",
     "text": [
      "Objective function = 140.0\n",
      "x1 = 20.0\n",
      "x2 = 20.0\n",
      "-----------------\n"
     ]
    }
   ],
   "source": [
    "import pyomo.environ as pyo\n",
    "from pyomo.opt import SolverFactory\n",
    "import pyomo.core as pyc\n",
    "\n",
    "model = pyc.ConcreteModel()\n",
    "\n",
    "model.x1 = pyc.Var(within=pyc.NonNegativeReals)\n",
    "x1 = model.x1\n",
    "model.x2 = pyc.Var(within=pyc.NonNegativeReals)\n",
    "x2 = model.x2\n",
    "\n",
    "model.Obj = pyc.Objective(expr = 4*x1 +3*x2, sense = pyc.maximize) \n",
    "\n",
    "model.Const1 = pyc.Constraint(expr=x1+x2 <= 40)\n",
    "model.Const2 = pyc.Constraint(expr=2*x1+x2 <= 60)\n",
    "\n",
    "opm = SolverFactory(\"glpk\")\n",
    "results = opm.solve(model)\n",
    "\n",
    "print(f\"Objective function = {model.Obj()}\")\n",
    "print(f\"x1 = {model.x1()}\")\n",
    "print(f\"x2 = {model.x2()}\")\n",
    "print(\"-----------------\")\n",
    "# print(results)\n"
   ]
  },
  {
   "cell_type": "code",
   "execution_count": null,
   "metadata": {},
   "outputs": [
    {
     "ename": "RuntimeError",
     "evalue": "No active exception to reraise",
     "output_type": "error",
     "traceback": [
      "\u001b[1;31m---------------------------------------------------------------------------\u001b[0m",
      "\u001b[1;31mRuntimeError\u001b[0m                              Traceback (most recent call last)",
      "Cell \u001b[1;32mIn[16], line 6\u001b[0m\n\u001b[0;32m      4\u001b[0m solver: pywraplp\u001b[39m.\u001b[39mSolver \u001b[39m=\u001b[39m pywraplp\u001b[39m.\u001b[39mSolver\u001b[39m.\u001b[39mCreateSolver(\u001b[39m'\u001b[39m\u001b[39mGLPK\u001b[39m\u001b[39m'\u001b[39m)\n\u001b[0;32m      5\u001b[0m \u001b[39mif\u001b[39;00m \u001b[39mnot\u001b[39;00m solver:\n\u001b[1;32m----> 6\u001b[0m     \u001b[39mraise\u001b[39;00m\n\u001b[0;32m      8\u001b[0m x1: pywraplp\u001b[39m.\u001b[39mVariable \u001b[39m=\u001b[39m solver\u001b[39m.\u001b[39mIntVar(\u001b[39m0\u001b[39m, solver\u001b[39m.\u001b[39minfinity(), \u001b[39m'\u001b[39m\u001b[39mx1\u001b[39m\u001b[39m'\u001b[39m)\n\u001b[0;32m      9\u001b[0m x2: pywraplp\u001b[39m.\u001b[39mVariable \u001b[39m=\u001b[39m solver\u001b[39m.\u001b[39mIntVar(\u001b[39m0\u001b[39m, solver\u001b[39m.\u001b[39minfinity(), \u001b[39m'\u001b[39m\u001b[39mx2\u001b[39m\u001b[39m'\u001b[39m)\n",
      "\u001b[1;31mRuntimeError\u001b[0m: No active exception to reraise"
     ]
    }
   ],
   "source": [
    "from ortools.linear_solver import pywraplp\n",
    "\n",
    "# Create the linear solver with the GLOP backend.\n",
    "solver: pywraplp.Solver = pywraplp.Solver.CreateSolver('GLOP') # third party solvers require building ortools from source\n",
    "if not solver:\n",
    "    raise\n",
    "\n",
    "x1: pywraplp.Variable = solver.IntVar(0, solver.infinity(), 'x1')\n",
    "x2: pywraplp.Variable = solver.IntVar(0, solver.infinity(), 'x2')\n",
    "\n",
    "print('Number of variables =', solver.NumVariables())\n",
    "\n",
    "# # Create a linear constraint, 0 <= x + y <= 2.\n",
    "solver.Add(x1+x2 <= 40)\n",
    "solver.Add(2*x1+x2 <= 60)\n",
    "\n",
    "print('Number of constraints =', solver.NumConstraints())\n",
    "\n",
    "solver.Maximize(4*x1 +3*x2) \n",
    "\n",
    "status = solver.Solve()\n",
    "\n",
    "if status == pywraplp.Solver.OPTIMAL:\n",
    "    print('Solution:')\n",
    "    print(f'Objective value = {solver.Objective().Value():.2f}')\n",
    "    print(f'x1 = {x1.solution_value():.2f}')\n",
    "    print(f'x2 = {x2.solution_value():.2f}')\n",
    "    print('\\nAdvanced usage:')\n",
    "    print('Problem solved in %f milliseconds' % solver.wall_time())\n",
    "    print('Problem solved in %d iterations' % solver.iterations())\n",
    "else:\n",
    "    print('The problem does not have an optimal solution.')"
   ]
  },
  {
   "attachments": {},
   "cell_type": "markdown",
   "metadata": {},
   "source": [
    "# Example 2 - Page 140\n",
    "\n",
    "The Dakota Furniture Company manufactures desks, tables, and chairs. The manufacture\n",
    "of each type of furniture requires lumber and two types of skilled labor: finishing and carpentry. The amount of each resource needed to make each type of furniture is given in\n",
    "Table 4.\n",
    "Currently, 48 board feet of lumber, 20 finishing hours, and 8 carpentry hours are avail-\n",
    "able. A desk sells for \\$60, a table for \\$30, and a chair for $20. Dakota believes that demand for desks and chairs is unlimited, but at most five tables can be sold. Because the\n",
    "available resources have already been purchased, Dakota wants to maximize total\n",
    "revenue.\n",
    "\n",
    "Resource|Desk|Table|Chair\n",
    "-|-|-|-\n",
    "Lumber (board ft)|8|6.5|1.5\n",
    "Finishing hours|4|2.5|1.5\n",
    "Carpentry hours|2|1.5|0.5"
   ]
  },
  {
   "attachments": {},
   "cell_type": "markdown",
   "metadata": {},
   "source": [
    "Defining the decision variables as\n",
    "\n",
    "- $x1$ = number of desks produced\n",
    "- $x2$ = number of tables produced\n",
    "- $x3$ = number of chairs produced\n",
    "\n",
    "it is easy to see that Dakota should solve the following LP:\n",
    "\n",
    "max $z = 60x1 + 30x2 + 20x3$\n",
    "\n",
    "s.t.\n",
    "- 8x1 + 6x2 + x3 <= 48 (Lumber constraint)\n",
    "- 4x1 + 2x2 + 1.5x3 <= 20 (Finishing constraint)\n",
    "- 2x1 + 1.5x2 + 0.5x3 <= 8 (Carpentry constraint)\n",
    "- x2 <= 5 (Limitation on table demand)\n",
    "- x1, x2, x3 >= 0"
   ]
  },
  {
   "cell_type": "code",
   "execution_count": null,
   "metadata": {},
   "outputs": [],
   "source": []
  }
 ],
 "metadata": {
  "kernelspec": {
   "display_name": ".venv",
   "language": "python",
   "name": "python3"
  },
  "language_info": {
   "codemirror_mode": {
    "name": "ipython",
    "version": 3
   },
   "file_extension": ".py",
   "mimetype": "text/x-python",
   "name": "python",
   "nbconvert_exporter": "python",
   "pygments_lexer": "ipython3",
   "version": "3.10.7"
  },
  "orig_nbformat": 4
 },
 "nbformat": 4,
 "nbformat_minor": 2
}
