{
 "cells": [
  {
   "attachments": {},
   "cell_type": "markdown",
   "metadata": {},
   "source": [
    "# (Winston - operations-research) Example 1 - CHapter 4 \n",
    "\n",
    "Leather Limited manufactures two types of belts: the deluxe model and the regular model.\n",
    "Each type requires 1 sq yd of leather. A regular belt requires 1 hour of skilled labor, and\n",
    "a deluxe belt requires 2 hours. Each week, 40 sq yd of leather and 60 hours of skilled la-\n",
    "bor are available. Each regular belt contributes \\$3 to profit and each deluxe belt, \n",
    "\\$4. If\n",
    "we define\n",
    "\n",
    "$x1$ = number of deluxe belts produced weekly\n",
    "\n",
    "$x2$ = number of regular belts produced weekly\n",
    "\n",
    "the appropriate LP is\n",
    "\n",
    "max z = 4x1 + 3x2\n",
    "\n",
    "s.t.\n",
    "\n",
    "x1 = x2 + 40 (Leather constraint)\n",
    "\n",
    "2x1 = x2 + 60 (Labor constraint)\n",
    "\n",
    "x1, x2 >= 0"
   ]
  },
  {
   "cell_type": "code",
   "execution_count": 17,
   "metadata": {},
   "outputs": [
    {
     "ename": "",
     "evalue": "",
     "output_type": "error",
     "traceback": [
      "\u001b[1;31mCanceled future for execute_request message before replies were done"
     ]
    },
    {
     "ename": "",
     "evalue": "",
     "output_type": "error",
     "traceback": [
      "\u001b[1;31mThe Kernel crashed while executing code in the the current cell or a previous cell. Please review the code in the cell(s) to identify a possible cause of the failure. Click <a href='https://aka.ms/vscodeJupyterKernelCrash'>here</a> for more info. View Jupyter <a href='command:jupyter.viewOutput'>log</a> for further details."
     ]
    }
   ],
   "source": [
    "from ortools.init import pywrapinit\n",
    "\n",
    "pywrapinit.CppBridge.InitLogging('Operations-Research-Winston.ipynb')\n",
    "cpp_flags = pywrapinit.CppFlags()\n",
    "cpp_flags.logtostderr = True\n",
    "cpp_flags.log_prefix = False\n",
    "pywrapinit.CppBridge.SetFlags(cpp_flags)"
   ]
  },
  {
   "cell_type": "code",
   "execution_count": null,
   "metadata": {},
   "outputs": [
    {
     "name": "stdout",
     "output_type": "stream",
     "text": [
      "Objective function = 140.0\n",
      "x1 = 20.0\n",
      "x2 = 20.0\n",
      "-----------------\n"
     ]
    }
   ],
   "source": [
    "import pyomo.environ as pyo\n",
    "from pyomo.opt import SolverFactory\n",
    "import pyomo.core as pyc\n",
    "\n",
    "model = pyc.ConcreteModel()\n",
    "\n",
    "model.x1 = pyc.Var(within=pyc.NonNegativeReals)\n",
    "x1 = model.x1\n",
    "model.x2 = pyc.Var(within=pyc.NonNegativeReals)\n",
    "x2 = model.x2\n",
    "\n",
    "model.Obj = pyc.Objective(expr = 4*x1 +3*x2, sense = pyc.maximize) \n",
    "\n",
    "model.Const1 = pyc.Constraint(expr=x1+x2 <= 40)\n",
    "model.Const2 = pyc.Constraint(expr=2*x1+x2 <= 60)\n",
    "\n",
    "opm = SolverFactory(\"glpk\")\n",
    "results = opm.solve(model)\n",
    "\n",
    "print(f\"Objective function = {model.Obj()}\")\n",
    "print(f\"x1 = {model.x1()}\")\n",
    "print(f\"x2 = {model.x2()}\")\n",
    "print(\"-----------------\")\n",
    "# print(results)\n"
   ]
  },
  {
   "cell_type": "code",
   "execution_count": 2,
   "metadata": {},
   "outputs": [
    {
     "name": "stdout",
     "output_type": "stream",
     "text": [
      "Number of variables = 2\n",
      "Number of constraints = 2\n",
      "Solution:\n",
      "Objective value = 140.00\n",
      "x1 = 20.00\n",
      "x2 = 20.00\n",
      "\n",
      "Advanced usage:\n",
      "Problem solved in 0.000000 milliseconds\n",
      "Problem solved in 2 iterations\n"
     ]
    }
   ],
   "source": [
    "from ortools.linear_solver import pywraplp\n",
    "\n",
    "# Create the linear solver with the GLOP backend.\n",
    "solver: pywraplp.Solver = pywraplp.Solver.CreateSolver('GLOP') # third party solvers require building ortools from source\n",
    "if not solver:\n",
    "    raise\n",
    "\n",
    "x1: pywraplp.Variable = solver.IntVar(0, solver.infinity(), 'x1')\n",
    "x2: pywraplp.Variable = solver.IntVar(0, solver.infinity(), 'x2')\n",
    "\n",
    "print('Number of variables =', solver.NumVariables())\n",
    "\n",
    "# # Create a linear constraint, 0 <= x + y <= 2.\n",
    "solver.Add(x1+x2 <= 40)\n",
    "solver.Add(2*x1+x2 <= 60)\n",
    "\n",
    "print('Number of constraints =', solver.NumConstraints())\n",
    "\n",
    "solver.Maximize(4*x1 +3*x2) \n",
    "\n",
    "status = solver.Solve()\n",
    "\n",
    "if status == pywraplp.Solver.OPTIMAL:\n",
    "    print('Solution:')\n",
    "    print(f'Objective value = {solver.Objective().Value():.2f}')\n",
    "    print(f'x1 = {x1.solution_value():.2f}')\n",
    "    print(f'x2 = {x2.solution_value():.2f}')\n",
    "    print('\\nAdvanced usage:')\n",
    "    print('Problem solved in %f milliseconds' % solver.wall_time())\n",
    "    print('Problem solved in %d iterations' % solver.iterations())\n",
    "else:\n",
    "    print('The problem does not have an optimal solution.')"
   ]
  },
  {
   "attachments": {},
   "cell_type": "markdown",
   "metadata": {},
   "source": [
    "# (Winston - operations-research) Example 2 - Page 140\n",
    "\n",
    "The Dakota Furniture Company manufactures desks, tables, and chairs. The manufacture\n",
    "of each type of furniture requires lumber and two types of skilled labor: finishing and carpentry. The amount of each resource needed to make each type of furniture is given in\n",
    "Table 4.\n",
    "Currently, 48 board feet of lumber, 20 finishing hours, and 8 carpentry hours are avail-\n",
    "able. A desk sells for \\$60, a table for \\$30, and a chair for $20. Dakota believes that demand for desks and chairs is unlimited, but at most five tables can be sold. Because the\n",
    "available resources have already been purchased, Dakota wants to maximize total\n",
    "revenue.\n",
    "\n",
    "Resource|Desk|Table|Chair\n",
    "-|-|-|-\n",
    "Lumber (board ft)|8|6.5|1.5\n",
    "Finishing hours|4|2.5|1.5\n",
    "Carpentry hours|2|1.5|0.5"
   ]
  },
  {
   "attachments": {},
   "cell_type": "markdown",
   "metadata": {},
   "source": [
    "Defining the decision variables as\n",
    "\n",
    "- $x1$ = number of desks produced\n",
    "- $x2$ = number of tables produced\n",
    "- $x3$ = number of chairs produced\n",
    "\n",
    "it is easy to see that Dakota should solve the following LP:\n",
    "\n",
    "max $z = 60x1 + 30x2 + 20x3$\n",
    "\n",
    "s.t.\n",
    "- 8x1 + 6x2 + x3 <= 48 (Lumber constraint)\n",
    "- 4x1 + 2x2 + 1.5x3 <= 20 (Finishing constraint)\n",
    "- 2x1 + 1.5x2 + 0.5x3 <= 8 (Carpentry constraint)\n",
    "- x2 <= 5 (Limitation on table demand)\n",
    "- x1, x2, x3 >= 0"
   ]
  },
  {
   "cell_type": "code",
   "execution_count": 3,
   "metadata": {},
   "outputs": [],
   "source": [
    "# pending   "
   ]
  },
  {
   "attachments": {},
   "cell_type": "markdown",
   "metadata": {},
   "source": [
    "# API playground and dummy examples\n",
    "\n",
    "## Minimize number of time allocation entries for project members\n",
    "\n",
    "Redistribute total hours to bill for $n$ total users from all teams in a project so that individual\n",
    "user time entries (forcefully manual) are minimized. \n",
    "\n",
    "Inputs:\n",
    "  - User monthly billable hours to report (excluding holidays, etc.) for every\n",
    "    client. \n",
    "    \n",
    "    >For proper\n",
    "    >optimization, knowing each non-billable hours count and day of the month for every\n",
    "    >user would be necessary. In this example all non-billable hours are effectively aggregated at the end of the month.\n",
    "  - A month can be composed of either 4 or 5 weeks. Selectable on demand.\n",
    "  - \n",
    "\n",
    "Constraints: \n",
    "  - 8 hours/day for reporting application\n",
    "  - 40 hour/week maximum span of reported project hours. $span_l <= 40.0$\n",
    "\n",
    "\n",
    "The objective is to minimize total created spans\n",
    "\n",
    "Example:\n",
    "\n",
    "4 week month, 3 users with 160,160,150 billable hours to distribute between\n",
    "projects:\n",
    "\n",
    "- 1: 140h\n",
    "- 2: 20h\n",
    "- 3: 310h\n",
    "\n",
    "should output something like ( in {hours}#{project} format): \n",
    "||Week 1|Week 2|Week 3|Week 4|Spans\n",
    "--|-|-|-|-|-\n",
    "user 1| 40#3 | 40#3 | 40#3 | 40#3 | 4\n",
    "user 3| 40#3 | 40#3 | 40#3 | 30#3 | 4\n",
    "user 2| 40#1 | 40#1 | 40#1 | 20#1 + 20#2 | 5\n"
   ]
  },
  {
   "cell_type": "code",
   "execution_count": 27,
   "metadata": {},
   "outputs": [
    {
     "name": "stdout",
     "output_type": "stream",
     "text": [
      "[span_u1_w1(0..40),\n",
      " span_u1_w2(0..40),\n",
      " span_u1_w3(0..40),\n",
      " span_u1_w4(0..40),\n",
      " span_u2_w1(0..40),\n",
      " span_u2_w2(0..40),\n",
      " span_u2_w3(0..40),\n",
      " span_u2_w4(0..40),\n",
      " span_u3_w1(0..40),\n",
      " span_u3_w2(0..40),\n",
      " span_u3_w3(0..40),\n",
      " span_u3_w4(0..40)]\n",
      "[[[u1_w1_p1(0..40), u1_w1_p2(0..40), u1_w1_p3(0..40)],\n",
      "  [u1_w2_p1(0..40), u1_w2_p2(0..40), u1_w2_p3(0..40)],\n",
      "  [u1_w3_p1(0..40), u1_w3_p2(0..40), u1_w3_p3(0..40)],\n",
      "  [u1_w4_p1(0..40), u1_w4_p2(0..40), u1_w4_p3(0..40)]],\n",
      " [[u2_w1_p1(0..40), u2_w1_p2(0..40), u2_w1_p3(0..40)],\n",
      "  [u2_w2_p1(0..40), u2_w2_p2(0..40), u2_w2_p3(0..40)],\n",
      "  [u2_w3_p1(0..40), u2_w3_p2(0..40), u2_w3_p3(0..40)],\n",
      "  [u2_w4_p1(0..40), u2_w4_p2(0..40), u2_w4_p3(0..40)]],\n",
      " [[u3_w1_p1(0..40), u3_w1_p2(0..40), u3_w1_p3(0..40)],\n",
      "  [u3_w2_p1(0..40), u3_w2_p2(0..40), u3_w2_p3(0..40)],\n",
      "  [u3_w3_p1(0..40), u3_w3_p2(0..40), u3_w3_p3(0..40)],\n",
      "  [u3_w4_p1(0..40), u3_w4_p2(0..40), u3_w4_p3(0..40)]]]\n"
     ]
    },
    {
     "ename": "Exception",
     "evalue": "INFEASIBLE",
     "output_type": "error",
     "traceback": [
      "\u001b[1;31m---------------------------------------------------------------------------\u001b[0m",
      "\u001b[1;31mException\u001b[0m                                 Traceback (most recent call last)",
      "Cell \u001b[1;32mIn[27], line 50\u001b[0m\n\u001b[0;32m     47\u001b[0m status \u001b[39m=\u001b[39m solver\u001b[39m.\u001b[39mSolve(model)\n\u001b[0;32m     49\u001b[0m \u001b[39mif\u001b[39;00m status \u001b[39m==\u001b[39m cp_model\u001b[39m.\u001b[39mINFEASIBLE:\n\u001b[1;32m---> 50\u001b[0m     \u001b[39mraise\u001b[39;00m \u001b[39mException\u001b[39;00m(\u001b[39m\"\u001b[39m\u001b[39mINFEASIBLE\u001b[39m\u001b[39m\"\u001b[39m)\n\u001b[0;32m     51\u001b[0m \u001b[39mif\u001b[39;00m status \u001b[39m==\u001b[39m cp_model\u001b[39m.\u001b[39mMODEL_INVALID:\n\u001b[0;32m     52\u001b[0m     \u001b[39mraise\u001b[39;00m \u001b[39mException\u001b[39;00m(\u001b[39m\"\u001b[39m\u001b[39mMODEL_INVALID\u001b[39m\u001b[39m\"\u001b[39m)\n",
      "\u001b[1;31mException\u001b[0m: INFEASIBLE"
     ]
    }
   ],
   "source": [
    "import pprint\n",
    "from ortools.sat.python import cp_model\n",
    "\n",
    "# Define the input parameters\n",
    "n_weeks = 4\n",
    "billing_info = {'1': 140, '2': 20, '3': 310}\n",
    "hours_per_day = 8\n",
    "max_weekly_hours = 40\n",
    "\n",
    "# Initialize the CP-SAT model\n",
    "model = cp_model.CpModel()\n",
    "\n",
    "# Create the decision variables\n",
    "user_hours = [160,160,150] # users [1,2,3]\n",
    "vars = []\n",
    "for u in range(len(user_hours)):\n",
    "    vars.append([])\n",
    "    for w in range(n_weeks):\n",
    "        vars[u].append([])\n",
    "        for p in billing_info.keys():\n",
    "            vars[u][w].append(model.NewIntVar(0, max_weekly_hours, f'u{u+1}_w{w+1}_p{p}'))\n",
    "\n",
    "# Add the constraints\n",
    "for u in range(len(user_hours)):\n",
    "    # for w in range(n_weeks):\n",
    "    #     model.Add(sum(vars[u][w]) == sum(billing_info.values()))\n",
    "\n",
    "    for p in billing_info.keys():\n",
    "        model.Add(sum(vars[u][w][int(p)-1] for u in range(len(user_hours))) == billing_info[p])\n",
    "\n",
    "        # model.Add(sum(vars[u][w][int(p)-1][d] for d in range(5)) == hours_per_day * 5)\n",
    "\n",
    "# Define the objective\n",
    "spans = []\n",
    "for u in range(len(user_hours)):\n",
    "    for w in range(n_weeks):\n",
    "        user_span = model.NewIntVar(0, max_weekly_hours, f'span_u{u+1}_w{w+1}')\n",
    "        model.AddMaxEquality(user_span, [vars[u][w][int(p)-1] for p in billing_info.keys()])\n",
    "        spans.append(user_span)\n",
    "model.Minimize(sum(spans))\n",
    "\n",
    "pprint.pprint(spans)\n",
    "pprint.pprint(vars)\n",
    "\n",
    "# Solve the model\n",
    "solver = cp_model.CpSolver()\n",
    "status = solver.Solve(model)\n",
    "\n",
    "if status == cp_model.INFEASIBLE:\n",
    "    raise Exception(\"INFEASIBLE\")\n",
    "if status == cp_model.MODEL_INVALID:\n",
    "    raise Exception(\"MODEL_INVALID\")\n",
    "\n",
    "if status == cp_model.OPTIMAL or status == cp_model.FEASIBLE:\n",
    "    for u in range(len(user_hours)):\n",
    "        print(f\"user {u+1}:\")\n",
    "        for w in range(n_weeks):\n",
    "            for p in billing_info.keys():\n",
    "                project_hours = [solver.Value(vars[u][w][int(p)-1][d]) for d in range(5)]\n",
    "                print(f\"Week {w+1}: {sum(project_hours)}h on project {p} ({', '.join([f'{h}h' for h in project_hours])})\")\n",
    "        print(f\"Total span for user {u+1}: {solver.Value(spans[u*n_weeks]):d}\")\n",
    "        print(\"----\")\n",
    "    print(f\"Total span for all users: {solver.ObjectiveValue():d}\")\n",
    "else:\n",
    "    print(\"No optimal or feasible solution found.\")\n"
   ]
  }
 ],
 "metadata": {
  "kernelspec": {
   "display_name": ".venv",
   "language": "python",
   "name": "python3"
  },
  "language_info": {
   "codemirror_mode": {
    "name": "ipython",
    "version": 3
   },
   "file_extension": ".py",
   "mimetype": "text/x-python",
   "name": "python",
   "nbconvert_exporter": "python",
   "pygments_lexer": "ipython3",
   "version": "3.10.7"
  },
  "orig_nbformat": 4
 },
 "nbformat": 4,
 "nbformat_minor": 2
}
