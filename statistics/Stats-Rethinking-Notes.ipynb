{
 "cells": [
  {
   "attachments": {},
   "cell_type": "markdown",
   "metadata": {},
   "source": [
    "## Bayesian models\n",
    "\n",
    "Designing a simple Bayesian model benefits from a design loop with three steps.\n",
    "(1) Data story: Motivate the model by narrating how the data might arise.\n",
    "(2) Update: Educate your model by feeding it the data.\n",
    "(3) Evaluate: All statistical models require supervision, leading to model\n",
    "revision.\n",
    "\n",
    "### Data story\n",
    "\n",
    "This story may be descriptive, specifying associations that can be used to\n",
    "predict outcomes, given observations. \n",
    "Or it may be causal, a theory of how some events\n",
    "produce other events."
   ]
  }
 ],
 "metadata": {
  "language_info": {
   "name": "python"
  },
  "orig_nbformat": 4
 },
 "nbformat": 4,
 "nbformat_minor": 2
}
