{
 "cells": [
  {
   "cell_type": "code",
   "execution_count": 1,
   "metadata": {},
   "outputs": [
    {
     "name": "stdout",
     "output_type": "stream",
     "text": [
      "['d:\\\\random_repos\\\\numerical-analysis', 'C:\\\\Users\\\\daniel\\\\AppData\\\\Local\\\\Programs\\\\Python\\\\Python310\\\\python310.zip', 'C:\\\\Users\\\\daniel\\\\AppData\\\\Local\\\\Programs\\\\Python\\\\Python310\\\\DLLs', 'C:\\\\Users\\\\daniel\\\\AppData\\\\Local\\\\Programs\\\\Python\\\\Python310\\\\lib', 'C:\\\\Users\\\\daniel\\\\AppData\\\\Local\\\\Programs\\\\Python\\\\Python310', 'd:\\\\random_repos\\\\numerical-analysis\\\\.venv', '', 'd:\\\\random_repos\\\\numerical-analysis\\\\.venv\\\\lib\\\\site-packages', 'd:\\\\random_repos\\\\numerical-analysis\\\\.venv\\\\lib\\\\site-packages\\\\win32', 'd:\\\\random_repos\\\\numerical-analysis\\\\.venv\\\\lib\\\\site-packages\\\\win32\\\\lib', 'd:\\\\random_repos\\\\numerical-analysis\\\\.venv\\\\lib\\\\site-packages\\\\Pythonwin']\n",
      "D:\\random_repos\\numerical-analysis\\.venv\\Scripts\\python.exe\n",
      "C:\\Users\\daniel\\AppData\\Local\\Programs\\Python\\Python310\\python.exe\n",
      "C:\\Users\\daniel\\AppData\\Local\\Microsoft\\WindowsApps\\python.exe\n",
      "Python 3.10.7\n"
     ]
    },
    {
     "name": "stderr",
     "output_type": "stream",
     "text": [
      "Python was not found; run without arguments to install from the Microsoft Store, or disable this shortcut from Settings > Manage App Execution Aliases.\n"
     ]
    },
    {
     "name": "stdout",
     "output_type": "stream",
     "text": [
      "Name: matplotlib\n",
      "Version: 3.7.1\n",
      "Summary: Python plotting package\n",
      "Home-page: https://matplotlib.org\n",
      "Author: John D. Hunter, Michael Droettboom\n",
      "Author-email: matplotlib-users@python.org\n",
      "License: PSF\n",
      "Location: d:\\random_repos\\numerical-analysis\\.venv\\lib\\site-packages\n",
      "Requires: contourpy, cycler, fonttools, kiwisolver, numpy, packaging, pillow, pyparsing, python-dateutil\n",
      "Required-by: \n"
     ]
    }
   ],
   "source": [
    "import sys\n",
    "print (sys.path)\n",
    "! where python\n",
    "! python --version\n",
    "! python3 --version\n",
    "! pip show matplotlib"
   ]
  },
  {
   "attachments": {},
   "cell_type": "markdown",
   "metadata": {},
   "source": [
    "## Terminology\n",
    "\n",
    "- **Trial**: single occurrence with an outcome that is uncertain until we observe it.\n",
    "For example, rolling a single die.\n",
    "- **Outcome**: possible result of a trial; one particular state of the world. What Laplace calls a case.\n",
    "For example: 4.\n",
    "- **Sample Space**: The set of all possible outcomes for the trial.\n",
    "For example, $\\{1, 2, 3, 4, 5, 6\\}$.\n",
    "- **Event**: subset of the sample space, a set of outcomes that together have some property we are interested in.\n",
    "For example, the event \"odd die roll\" is the set of outcomes $\\{1,3,5\\}$.\n",
    "- **Probability**: As Laplace said, the probability of an event with respect to\n",
    "  a sample space is the \"number of favorable cases\" (outcomes from the sample\n",
    "  space that are in the event) divided by the \"number of all the cases\" in the\n",
    "  sample space (assuming \"nothing leads us to expect that any one of these cases\n",
    "  should occur more than any other\"), so $P \\in [0,1]$.\n",
    "  For example, the probability of an odd die roll is $3/6 = 1/2$.\n",
    "- **Frequency**: non-negative number describing how often an outcome occurs. Can be a count like 5, or a ratio like 1/6.\n",
    "- **Distribution**: mapping from outcome to frequency of that outcome. We will allow sample spaces to be distributions. \n",
    "- **Probability Distribution**: distribution whose frequencies sum to 1. \n"
   ]
  },
  {
   "attachments": {},
   "cell_type": "markdown",
   "metadata": {},
   "source": [
    "## Introduction\n",
    "\n",
    "Sampling table: \n",
    "  * with replacement: we can pick the same item again (rolling dice, coin flip)\n",
    "  * without replacement: cannot choose again (pick a ball, team player...)\n",
    "\n",
    "\n",
    "  &nbsp; | Order matters | Order doesn't matter\n",
    "---------|----------|---------\n",
    " Replace | $n^k$ | $n+k-1 \\choose k$\n",
    " Don't replace | $\\frac{n!}{(n - k)!}$ | ${n \\choose k} = \\frac{n!}{(n - k)! \\times k!}$\n",
    "\n",
    "### die rolling implementation"
   ]
  },
  {
   "cell_type": "code",
   "execution_count": 2,
   "metadata": {},
   "outputs": [],
   "source": [
    "from fractions import Fraction\n",
    "\n",
    "def P(event, space):\n",
    "    \"The probability of an event, given a sample space.\"\n",
    "    return Fraction(cases(favorable(event, space)),cases(space))\n",
    "\n",
    "favorable = set.intersection # Outcomes that are in the event and in the sample space\n",
    "cases     = len              # The number of cases is the length, or size, of a set\n",
    "\n",
    "D     = {1, 2, 3, 4, 5, 6} # a sample space\n",
    "even  = {   2,    4,    6} # an event\n",
    "# NB: intersected with sample space to get favorable outcomes\n",
    "odd   = {1, 3, 5, 7, 9, 11, 13}\n",
    "prime = {2, 3, 5, 7, 11, 13}"
   ]
  },
  {
   "cell_type": "code",
   "execution_count": 3,
   "metadata": {},
   "outputs": [
    {
     "data": {
      "text/plain": [
       "Fraction(1, 2)"
      ]
     },
     "execution_count": 3,
     "metadata": {},
     "output_type": "execute_result"
    }
   ],
   "source": [
    "P(even, D)"
   ]
  },
  {
   "cell_type": "code",
   "execution_count": 4,
   "metadata": {},
   "outputs": [
    {
     "data": {
      "text/plain": [
       "Fraction(1, 2)"
      ]
     },
     "execution_count": 4,
     "metadata": {},
     "output_type": "execute_result"
    }
   ],
   "source": [
    "P(odd, D)"
   ]
  },
  {
   "cell_type": "code",
   "execution_count": 5,
   "metadata": {},
   "outputs": [
    {
     "data": {
      "text/plain": [
       "Fraction(5, 6)"
      ]
     },
     "execution_count": 5,
     "metadata": {},
     "output_type": "execute_result"
    }
   ],
   "source": [
    "P((even | prime), D) # The probability of an even or prime die roll"
   ]
  },
  {
   "cell_type": "code",
   "execution_count": 6,
   "metadata": {},
   "outputs": [
    {
     "data": {
      "text/plain": [
       "Fraction(1, 3)"
      ]
     },
     "execution_count": 6,
     "metadata": {},
     "output_type": "execute_result"
    }
   ],
   "source": [
    "P((odd & prime), D) # The probability of an odd prime die roll"
   ]
  },
  {
   "attachments": {},
   "cell_type": "markdown",
   "metadata": {},
   "source": [
    "### Card problems"
   ]
  },
  {
   "cell_type": "code",
   "execution_count": 7,
   "metadata": {},
   "outputs": [],
   "source": [
    "import itertools\n",
    "import random\n",
    "\n",
    "def combos(items, n):\n",
    "    \"All combinations of n items; each combo as a space-separated str.\"\n",
    "    return list(set(map(' '.join, itertools.combinations(items, n))))\n",
    "\n",
    "suits = u'♥♠♦♣'\n",
    "ranks = u'AKQJT98765432'\n",
    "deck  = [r + s for r in ranks for s in suits] # 52\n",
    "# sample space of all 5-card combinations from deck\n",
    "Hands = combos(deck, 5) # 2598960"
   ]
  },
  {
   "cell_type": "code",
   "execution_count": 8,
   "metadata": {},
   "outputs": [
    {
     "data": {
      "text/plain": [
       "['J♣ T♠ 9♣ 5♣ 2♣',\n",
       " 'Q♦ Q♣ 8♦ 4♥ 3♥',\n",
       " 'K♥ J♥ J♣ T♠ 9♠',\n",
       " 'Q♥ Q♦ 9♣ 8♦ 6♥',\n",
       " 'K♣ 9♥ 8♠ 4♦ 2♦',\n",
       " 'A♥ T♥ T♣ 5♣ 4♦',\n",
       " 'A♦ K♠ J♥ T♠ 6♦']"
      ]
     },
     "execution_count": 8,
     "metadata": {},
     "output_type": "execute_result"
    }
   ],
   "source": [
    "random.sample(Hands, 7)\n"
   ]
  },
  {
   "cell_type": "code",
   "execution_count": 9,
   "metadata": {},
   "outputs": [
    {
     "data": {
      "text/plain": [
       "['2♥', '4♦', 'T♥', 'A♠', 'Q♠', '2♠', '5♣']"
      ]
     },
     "execution_count": 9,
     "metadata": {},
     "output_type": "execute_result"
    }
   ],
   "source": [
    "random.sample(deck, 7)"
   ]
  },
  {
   "cell_type": "code",
   "execution_count": 10,
   "metadata": {},
   "outputs": [
    {
     "data": {
      "text/plain": [
       "Fraction(33, 16660)"
      ]
     },
     "execution_count": 10,
     "metadata": {},
     "output_type": "execute_result"
    }
   ],
   "source": [
    "# 5 cards of the same suit\n",
    "flush = {hand for hand in Hands if any(hand.count(suit) == 5 for suit in suits)}\n",
    "P(flush, Hands)"
   ]
  },
  {
   "cell_type": "code",
   "execution_count": 11,
   "metadata": {},
   "outputs": [
    {
     "data": {
      "text/plain": [
       "Fraction(1, 4165)"
      ]
     },
     "execution_count": 11,
     "metadata": {},
     "output_type": "execute_result"
    }
   ],
   "source": [
    "four_kind = {hand for hand in Hands if any(hand.count(rank) == 4 for rank in ranks)}\n",
    "P(four_kind, Hands) # e.g. 4 kings"
   ]
  },
  {
   "attachments": {},
   "cell_type": "markdown",
   "metadata": {},
   "source": [
    "## Urn Problems\n",
    "\n",
    "> *An urn contains 6 blue, 9 red, and 8 white balls.  We select 6 balls at random. What is the probability of each of these  outcomes:*\n",
    "> \n",
    "> - *All balls are red*.\n",
    "> - *3 are blue, and 1 is red, and 2 are white, *.\n",
    "> - *Exactly 4 balls are white*."
   ]
  },
  {
   "cell_type": "code",
   "execution_count": 12,
   "metadata": {},
   "outputs": [
    {
     "data": {
      "text/plain": [
       "['B4 R1 R2 W5 W2 B3']"
      ]
     },
     "execution_count": 12,
     "metadata": {},
     "output_type": "execute_result"
    }
   ],
   "source": [
    "def balls(color, n):\n",
    "    \"A set of n numbered balls of the given color.\"\n",
    "    return {color + str(i)\n",
    "            for i in range(1, n + 1)}\n",
    "\n",
    "urn = list(balls('B', 6) | balls('R', 9) | balls('W', 8))\n",
    "\n",
    "U6 = combos(urn, 6) \n",
    "\"\"\"sample space (we select 6 random balls)\"\"\"\n",
    "\n",
    "random.sample(U6, 1)"
   ]
  },
  {
   "cell_type": "code",
   "execution_count": 13,
   "metadata": {},
   "outputs": [],
   "source": [
    "def select(color, n, space=U6):\n",
    "    \"\"\"\n",
    "    The subset of the sample space with exactly `n` balls of given `color`.\n",
    "    Example: `select('R', 6)` is the event of picking 6 red balls from the urn\n",
    "    \"\"\"\n",
    "    return {s for s in space if s.count(color) == n}"
   ]
  },
  {
   "cell_type": "code",
   "execution_count": 14,
   "metadata": {},
   "outputs": [
    {
     "data": {
      "text/plain": [
       "Fraction(4, 4807)"
      ]
     },
     "execution_count": 14,
     "metadata": {},
     "output_type": "execute_result"
    }
   ],
   "source": [
    "# *All balls are red*.\n",
    "P(select('R', 6), U6) "
   ]
  },
  {
   "cell_type": "code",
   "execution_count": 15,
   "metadata": {},
   "outputs": [
    {
     "data": {
      "text/plain": [
       "Fraction(240, 4807)"
      ]
     },
     "execution_count": 15,
     "metadata": {},
     "output_type": "execute_result"
    }
   ],
   "source": [
    "# *3 are blue, and 1 is red, and 2 are white, *.\n",
    "P(select('B', 3) & select('R', 1) & select('W', 2), U6)"
   ]
  },
  {
   "cell_type": "code",
   "execution_count": 16,
   "metadata": {},
   "outputs": [
    {
     "data": {
      "text/plain": [
       "Fraction(350, 4807)"
      ]
     },
     "execution_count": 16,
     "metadata": {},
     "output_type": "execute_result"
    }
   ],
   "source": [
    "# 4 balls (only) are white\n",
    "P(select('W', 4), U6)\n"
   ]
  },
  {
   "attachments": {},
   "cell_type": "markdown",
   "metadata": {},
   "source": [
    "TODO: what about probability that 3 or more are white (not necessarily consecutive)? \n",
    "\n",
    "see\n",
    "https://math.stackexchange.com/questions/1292902/the-probability-of-getting-at-least-5-balls-of-the-same-color-from-a-uniformly-d\n",
    "which is basically the same exact problem.\n",
    "\n",
    "we should first simplify the problem by grouping useless balls: i.e. combine blue\n",
    "and red as \"?\".\n",
    "\n",
    "The probability of any of the _+3 white balls_ event\n",
    "(WWW???, ?W?WW?, ??WWW?, ...) is based on order matters without replacement\n",
    "\n",
    "\n"
   ]
  },
  {
   "cell_type": "code",
   "execution_count": null,
   "metadata": {},
   "outputs": [],
   "source": []
  },
  {
   "cell_type": "code",
   "execution_count": null,
   "metadata": {},
   "outputs": [],
   "source": []
  },
  {
   "attachments": {},
   "cell_type": "markdown",
   "metadata": {},
   "source": [
    "### Verifying urn calculations with arithmetic\n",
    "\n",
    "Let's verify the first question of drawing exactly 6 red balls.\n",
    "\n",
    "We need to first answer _how many ways can I choose 6 out of 9 red balls?_\n",
    "\n",
    "$$\n",
    "6 \\choose 9\n",
    "$$\n",
    "\n",
    "If we care about the order in which they're drawn, the number of ways of choosing $k$ out of $n$ items is:\n",
    "\n",
    "$$\n",
    "\\frac{n!}{(n - k)!}\n",
    "$$\n",
    "\n",
    "But if we don't care about the *order* of the six drawn balls, we can divide\n",
    "that product by the number of permutations of 6 things, i.e. 6:\n",
    "\n",
    "$$\n",
    "\\frac{n!}{(n - k)! \\times k!} = {n \\choose k}\n",
    "$$\n",
    "\n",
    "\n",
    "\n"
   ]
  },
  {
   "cell_type": "code",
   "execution_count": 17,
   "metadata": {},
   "outputs": [
    {
     "data": {
      "text/plain": [
       "84"
      ]
     },
     "execution_count": 17,
     "metadata": {},
     "output_type": "execute_result"
    }
   ],
   "source": [
    "from math import factorial\n",
    "\n",
    "def choose(n, k):\n",
    "    \"Number of ways to choose k items from a list of n items without taking order into account.\"\n",
    "    return factorial(n) // (factorial(n - k) * factorial(k))\n",
    "\n",
    "choose(9, 6)"
   ]
  },
  {
   "cell_type": "code",
   "execution_count": 18,
   "metadata": {},
   "outputs": [
    {
     "name": "stdout",
     "output_type": "stream",
     "text": [
      "True\n",
      "True\n"
     ]
    }
   ],
   "source": [
    "N = len(U6)\n",
    "\n",
    "# `P` computes a ratio and `choose` computes a count,\n",
    "# so we can multiply the probability back by the denominator `cases(space)`, i.e. len(U6) \n",
    "# so that both are counts.\n",
    "print(N * P(select('R', 6), U6) == choose(9, 6))\n",
    "# which is just:\n",
    "print(len(favorable(select('R', 6), U6)) == choose(9, 6))"
   ]
  },
  {
   "cell_type": "code",
   "execution_count": 19,
   "metadata": {},
   "outputs": [
    {
     "data": {
      "text/plain": [
       "True"
      ]
     },
     "execution_count": 19,
     "metadata": {},
     "output_type": "execute_result"
    }
   ],
   "source": [
    "# 3 are blue, and 1 is red, and 2 are white\n",
    "\n",
    "N * P(select('B', 3) & select('W', 2) & select('R', 1), U6) == choose(6, 3) * choose(9, 1) * choose(8, 2) "
   ]
  },
  {
   "cell_type": "code",
   "execution_count": 20,
   "metadata": {},
   "outputs": [
    {
     "data": {
      "text/plain": [
       "True"
      ]
     },
     "execution_count": 20,
     "metadata": {},
     "output_type": "execute_result"
    }
   ],
   "source": [
    "# 4 balls (only) are white\n",
    "N * P(select('W', 4), U6) == choose(8, 4) * choose(6 + 9, 2)  # (6 + 9 non-white balls)"
   ]
  },
  {
   "cell_type": "code",
   "execution_count": 21,
   "metadata": {},
   "outputs": [
    {
     "data": {
      "text/plain": [
       "0.7"
      ]
     },
     "execution_count": 21,
     "metadata": {},
     "output_type": "execute_result"
    }
   ],
   "source": [
    "from collections import Counter\n",
    "        \n",
    "class Dist(Counter): \n",
    "    \"A Distribution of {outcome: frequency} pairs.\"\n",
    "\n",
    "# Changes to previous functions to allow use of distributions (via `Dist`):\n",
    "#   - Sample spaces and events can both be specified as either a `set` or a `Dist`.\n",
    "#   - The sample space can be a non-probability distribution like `Dist(H=50, T=50)`; the results\n",
    "#   will be the same as if the sample space had been a true probability distribution like `Dist(H=1/2, T=1/2)`.\n",
    "#   - `cases` now sums the frequencies in a distribution (it previously counted the length).\n",
    "#   - `favorable` now returns a `Dist` of favorable outcomes and their frequencies (not a `set`).\n",
    "#   - Redefines `Fraction` to use `\"/\"`, not `fractions.Fraction`, because frequencies might be floats.\n",
    "#   - `P` is unchanged.\n",
    "\n",
    "def cases(outcomes): \n",
    "    \"The total frequency of all the outcomes.\"\n",
    "    return sum(Dist(outcomes).values())\n",
    "\n",
    "def favorable(event, space):\n",
    "    \"A distribution of outcomes from the sample space that are in the event.\"\n",
    "    space = Dist(space)\n",
    "    return Dist({x: space[x] \n",
    "                for x in space if x in event})\n",
    "\n",
    "def Fraction(n, d): return n / d\n",
    "    \n",
    "# multiple ways to define a distribution\n",
    "assert Dist(H=5, T=4) == Dist({'H': 5}, T=4) == Dist('TTTT', H=5) == Dist('THHHTTHHT')\n",
    "\n",
    "# Example: probability of rolling an even number with a crooked die that is loaded to prefer 6:\n",
    "Crooked = Dist({1: 0.1, 2: 0.1, 3: 0.1, 4: 0.1, 5: 0.1, 6: 0.5})\n",
    "P(even, Crooked) # now using new versions of cases, favorable and Fraction\n"
   ]
  },
  {
   "cell_type": "code",
   "execution_count": 22,
   "metadata": {},
   "outputs": [
    {
     "data": {
      "text/plain": [
       "0.30000000000000004"
      ]
     },
     "execution_count": 22,
     "metadata": {},
     "output_type": "execute_result"
    }
   ],
   "source": [
    "# vs getting an odd\n",
    "P(odd, Crooked) # now using new versions of cases, favorable and Fraction\n"
   ]
  },
  {
   "attachments": {},
   "cell_type": "markdown",
   "metadata": {},
   "source": [
    "> Allowing predicates to be used as events\n",
    "\n",
    "To calculate the probability of an even die roll, we've been using\n",
    "\n",
    "even = {2, 4, 6}\n",
    "\n",
    "Which makes us alter the events if we were to change the die face number.\n",
    "\n",
    "It is much more practical to allow events to be computed in this case and\n",
    "redefine `favorable` once again:"
   ]
  },
  {
   "cell_type": "code",
   "execution_count": 23,
   "metadata": {},
   "outputs": [
    {
     "data": {
      "text/plain": [
       "Dist({2: 1, 4: 1, 6: 1})"
      ]
     },
     "execution_count": 23,
     "metadata": {},
     "output_type": "execute_result"
    }
   ],
   "source": [
    "def even(n): return n % 2 == 0\n",
    "\n",
    "def favorable(event, space):\n",
    "    \"A distribution of outcomes from the sample space that are in the event.\"\n",
    "    if callable(event):\n",
    "        event = {x for x in space if event(x)}\n",
    "    space = Dist(space)\n",
    "    return Dist({x: space[x] \n",
    "                 for x in space if x in event})\n",
    "    \n",
    "favorable(even, D)"
   ]
  },
  {
   "cell_type": "code",
   "execution_count": 24,
   "metadata": {},
   "outputs": [
    {
     "data": {
      "text/plain": [
       "0.5"
      ]
     },
     "execution_count": 24,
     "metadata": {},
     "output_type": "execute_result"
    }
   ],
   "source": [
    "P(even, D)"
   ]
  },
  {
   "attachments": {},
   "cell_type": "markdown",
   "metadata": {},
   "source": [
    "The sample space (die) can also we computed dynamically:"
   ]
  },
  {
   "cell_type": "code",
   "execution_count": 25,
   "metadata": {},
   "outputs": [
    {
     "data": {
      "text/plain": [
       "Dist({2: 1, 4: 1, 6: 1, 8: 1, 10: 1, 12: 1})"
      ]
     },
     "execution_count": 25,
     "metadata": {},
     "output_type": "execute_result"
    }
   ],
   "source": [
    "def die(n): return set(range(1, n + 1))\n",
    "\n",
    "favorable(even, die(12))"
   ]
  },
  {
   "cell_type": "code",
   "execution_count": 26,
   "metadata": {},
   "outputs": [
    {
     "data": {
      "text/plain": [
       "0.5"
      ]
     },
     "execution_count": 26,
     "metadata": {},
     "output_type": "execute_result"
    }
   ],
   "source": [
    "P(even, die(12))"
   ]
  },
  {
   "cell_type": "code",
   "execution_count": 27,
   "metadata": {},
   "outputs": [
    {
     "data": {
      "text/plain": [
       "0.5"
      ]
     },
     "execution_count": 27,
     "metadata": {},
     "output_type": "execute_result"
    }
   ],
   "source": [
    "P(even, die(2000))"
   ]
  },
  {
   "cell_type": "code",
   "execution_count": 28,
   "metadata": {},
   "outputs": [
    {
     "data": {
      "text/plain": [
       "0.49975012493753124"
      ]
     },
     "execution_count": 28,
     "metadata": {},
     "output_type": "execute_result"
    }
   ],
   "source": [
    "P(even, die(2001))"
   ]
  },
  {
   "cell_type": "code",
   "execution_count": 29,
   "metadata": {},
   "outputs": [
    {
     "name": "stdout",
     "output_type": "stream",
     "text": [
      "P(is_prime, sum_dice(1)) = 0.5\n",
      "P(is_prime, sum_dice(2)) = 0.417\n",
      "P(is_prime, sum_dice(3)) = 0.338\n",
      "P(is_prime, sum_dice(4)) = 0.333\n",
      "P(is_prime, sum_dice(5)) = 0.317\n",
      "P(is_prime, sum_dice(6)) = 0.272\n",
      "P(is_prime, sum_dice(7)) = 0.242\n",
      "P(is_prime, sum_dice(8)) = 0.236\n"
     ]
    }
   ],
   "source": [
    "#\n",
    "# Calculate the probability that the sum of rolling `d` 6-sided dice is prime:\n",
    "#\n",
    "\n",
    "def sum_dice(d): return Dist(sum(dice) for dice in itertools.product(D, repeat=d))\n",
    "\n",
    "def is_prime(n): return (n > 1 and not any(n % i == 0 for i in range(2, n)))\n",
    "\n",
    "for d in range(1, 9):\n",
    "    p = P(is_prime, sum_dice(d))\n",
    "    print(f\"P(is_prime, sum_dice({d})) = {round(p, 3)}\")"
   ]
  },
  {
   "attachments": {},
   "cell_type": "markdown",
   "metadata": {},
   "source": [
    "> Coin toss game (Fermat & Pascal)\n",
    "\n",
    "Consider a gambling game consisting of tossing a coin repeatedly. \n",
    "Player H wins the game as soon as a total of 10 heads come up, and T wins if a\n",
    "total of 10 tails come up before H wins. \n",
    "If the game is interrupted when H has 8 heads and T has 7 tails, \n",
    "how should the pot of money (which happens to be 100 Francs) be split?"
   ]
  },
  {
   "cell_type": "code",
   "execution_count": 30,
   "metadata": {},
   "outputs": [],
   "source": [
    "def win_unfinished_game(h, t):\n",
    "    \"The probability that H will win the unfinished game, given the number of points `h` and `t` needed by H and T to win.\"\n",
    "    return P(at_least(h, 'h'), finishes(h, t))\n",
    "\n",
    "def at_least(n, item):\n",
    "    \"The event of getting at least n instances of item in an outcome.\"\n",
    "    return lambda outcome: outcome.count(item) >= n\n",
    "    \n",
    "def finishes(h, t):\n",
    "    \"All finishes of a game where player H needs h points to win and T needs t.\"\n",
    "    tosses = ['ht'] * (h + t - 1)\n",
    "    return set(itertools.product(*tosses))"
   ]
  },
  {
   "cell_type": "code",
   "execution_count": 31,
   "metadata": {},
   "outputs": [
    {
     "data": {
      "text/plain": [
       "{('h', 'h', 'h', 'h'),\n",
       " ('h', 'h', 'h', 't'),\n",
       " ('h', 'h', 't', 'h'),\n",
       " ('h', 'h', 't', 't'),\n",
       " ('h', 't', 'h', 'h'),\n",
       " ('h', 't', 'h', 't'),\n",
       " ('h', 't', 't', 'h'),\n",
       " ('h', 't', 't', 't'),\n",
       " ('t', 'h', 'h', 'h'),\n",
       " ('t', 'h', 'h', 't'),\n",
       " ('t', 'h', 't', 'h'),\n",
       " ('t', 'h', 't', 't'),\n",
       " ('t', 't', 'h', 'h'),\n",
       " ('t', 't', 'h', 't'),\n",
       " ('t', 't', 't', 'h'),\n",
       " ('t', 't', 't', 't')}"
      ]
     },
     "execution_count": 31,
     "metadata": {},
     "output_type": "execute_result"
    }
   ],
   "source": [
    "endings = finishes(2, 3) # current state, where H needs 2 coin tosses to win and T needs 3\n",
    "# 16 equiprobable endings\n",
    "endings"
   ]
  },
  {
   "cell_type": "code",
   "execution_count": 32,
   "metadata": {},
   "outputs": [
    {
     "data": {
      "text/plain": [
       "Dist({('h', 't', 'h', 'h'): 1,\n",
       "      ('t', 't', 'h', 'h'): 1,\n",
       "      ('h', 'h', 'h', 'h'): 1,\n",
       "      ('t', 'h', 'h', 't'): 1,\n",
       "      ('h', 'h', 't', 't'): 1,\n",
       "      ('t', 'h', 't', 'h'): 1,\n",
       "      ('h', 't', 'h', 't'): 1,\n",
       "      ('h', 'h', 'h', 't'): 1,\n",
       "      ('t', 'h', 'h', 'h'): 1,\n",
       "      ('h', 't', 't', 'h'): 1,\n",
       "      ('h', 'h', 't', 'h'): 1})"
      ]
     },
     "execution_count": 32,
     "metadata": {},
     "output_type": "execute_result"
    }
   ],
   "source": [
    "# of which 11 are favorable to player H who needs 2 tosses\n",
    "favorable(at_least(2, 'h'), endings)"
   ]
  },
  {
   "cell_type": "code",
   "execution_count": 33,
   "metadata": {},
   "outputs": [
    {
     "data": {
      "text/plain": [
       "Dist({('t', 't', 't', 't'): 1,\n",
       "      ('h', 't', 't', 't'): 1,\n",
       "      ('t', 't', 'h', 't'): 1,\n",
       "      ('t', 't', 't', 'h'): 1,\n",
       "      ('t', 'h', 't', 't'): 1})"
      ]
     },
     "execution_count": 33,
     "metadata": {},
     "output_type": "execute_result"
    }
   ],
   "source": [
    "# and of course only 16 - 11 are favorable to player T\n",
    "favorable(at_least(3, 't'), endings)"
   ]
  },
  {
   "cell_type": "code",
   "execution_count": 34,
   "metadata": {},
   "outputs": [
    {
     "data": {
      "text/plain": [
       "68.75"
      ]
     },
     "execution_count": 34,
     "metadata": {},
     "output_type": "execute_result"
    }
   ],
   "source": [
    "# If we need to justly split 100 currency artefacts between the two players, H will get:\n",
    "100 * win_unfinished_game(2, 3)"
   ]
  },
  {
   "cell_type": "code",
   "execution_count": 35,
   "metadata": {},
   "outputs": [
    {
     "name": "stdout",
     "output_type": "stream",
     "text": [
      "H needs 2 tosses, T needs 9 tosses - H gets: 98.93%\n",
      "H needs 2 tosses, T needs 8 tosses - H gets: 98.05%\n",
      "H needs 2 tosses, T needs 7 tosses - H gets: 96.48%\n",
      "H needs 2 tosses, T needs 6 tosses - H gets: 93.75%\n",
      "H needs 2 tosses, T needs 5 tosses - H gets: 89.06%\n",
      "H needs 2 tosses, T needs 4 tosses - H gets: 81.25%\n",
      "H needs 2 tosses, T needs 3 tosses - H gets: 68.75%\n",
      "H needs 2 tosses, T needs 2 tosses - H gets: 50.0%\n",
      "H needs 2 tosses, T needs 1 tosses - H gets: 25.0%\n",
      "H needs 2 tosses, T needs 0 tosses - H gets: 0.0%\n"
     ]
    }
   ],
   "source": [
    "for t_tosses_to_win in reversed(range(10)):\n",
    "    print(f\"H needs 2 tosses, T needs {t_tosses_to_win} tosses - H gets: {round(100 * win_unfinished_game(2, t_tosses_to_win), 2)}%\")"
   ]
  },
  {
   "attachments": {},
   "cell_type": "markdown",
   "metadata": {},
   "source": [
    "\n",
    "> Which of the following three propositions has the greatest chance of success? \n",
    "> 1. Six fair dice are tossed independently and at least one “6” appears. \n",
    "> 2. Twelve fair dice are tossed independently and at least two “6”s appear. \n",
    "> 3. Eighteen fair dice are tossed independently and at least three “6”s appear."
   ]
  },
  {
   "cell_type": "code",
   "execution_count": 36,
   "metadata": {},
   "outputs": [
    {
     "data": {
      "text/plain": [
       "Dist({'6666': 0.0007716049382716049,\n",
       "      '666?': 0.0038580246913580245,\n",
       "      '66?6': 0.0038580246913580245,\n",
       "      '66??': 0.019290123456790126,\n",
       "      '6?66': 0.0038580246913580245,\n",
       "      '6?6?': 0.019290123456790126,\n",
       "      '6??6': 0.019290123456790126,\n",
       "      '6???': 0.09645061728395063,\n",
       "      '?666': 0.0038580246913580245,\n",
       "      '?66?': 0.019290123456790122,\n",
       "      '?6?6': 0.019290123456790122,\n",
       "      '?6??': 0.09645061728395063,\n",
       "      '??66': 0.019290123456790122,\n",
       "      '??6?': 0.09645061728395063,\n",
       "      '???6': 0.09645061728395063,\n",
       "      '????': 0.48225308641975323})"
      ]
     },
     "execution_count": 36,
     "metadata": {},
     "output_type": "execute_result"
    }
   ],
   "source": [
    "die6 = Dist({6: 1/6, '?': 5/6}) # we don't care about other possibilities\n",
    "\n",
    "# dice rollings are independent from one another. So are coin flips. \n",
    "# Would not apply to e.g. removing balls from bags, etc. where order matters\n",
    "# When order matters -> conditional probability is what we're looking at.\n",
    "def joint(A, B, combine='{}{}'.format):\n",
    "    \"\"\"The joint distribution of two independent and identical distributions (IID). \n",
    "    Result is all entries of the form {'ab': frequency(a) * frequency(b)}\"\"\"\n",
    "    return Dist({combine(a, b): A[a] * B[b]\n",
    "                 for a in A for b in B})\n",
    "    \n",
    "def dice_prob(n, die):\n",
    "    \"Joint probability distribution from rolling `n` dice.\"\n",
    "    if n == 1:\n",
    "        return die\n",
    "    else:\n",
    "        return joint(die, dice_prob(n - 1, die))\n",
    "    \n",
    "dice_prob(4, die6)"
   ]
  },
  {
   "cell_type": "code",
   "execution_count": 37,
   "metadata": {},
   "outputs": [
    {
     "name": "stdout",
     "output_type": "stream",
     "text": [
      "0.665102023319616 <-- we're better off rolling six dice and hoping for 1 six\n",
      "0.61866737373231\n",
      "0.5973456859477678\n"
     ]
    }
   ],
   "source": [
    "# going back to the original question:\n",
    "print(P(at_least(1, '6'), dice_prob(6, die6)), \"<-- we're better off rolling six dice and hoping for 1 six\") \n",
    "print(P(at_least(2, '6'), dice_prob(12, die6)))\n",
    "print(P(at_least(3, '6'), dice_prob(18, die6)))"
   ]
  },
  {
   "attachments": {},
   "cell_type": "markdown",
   "metadata": {},
   "source": [
    "Allen Downey's M&MS:\n",
    "\n",
    "> The blue M&M was introduced in 1995.  Before then, the color mix in a bag of plain M&Ms was (30% Brown, 20% Yellow, 20% Red, 10% Green, 10% Orange, 10% Tan).  Afterward it > was (24% Blue , 20% Green, 16% Orange, 14% Yellow, 13% Red, 13% Brown). \n",
    "> A friend of mine has two bags of M&Ms, and he tells me that one is from 1994 and one from 1996.  He won't tell me which is which, but he gives me one M&M from each bag.  One > is yellow and one is green.  What is the probability that the yellow M&M came from the 1994 bag?"
   ]
  },
  {
   "cell_type": "code",
   "execution_count": 38,
   "metadata": {},
   "outputs": [
    {
     "data": {
      "text/plain": [
       "Dist({'94:brown 96:blue': 720,\n",
       "      '94:brown 96:green': 600,\n",
       "      '94:brown 96:orange': 480,\n",
       "      '94:brown 96:yellow': 420,\n",
       "      '94:brown 96:red': 390,\n",
       "      '94:brown 96:brown': 390,\n",
       "      '94:yellow 96:blue': 480,\n",
       "      '94:yellow 96:green': 400,\n",
       "      '94:yellow 96:orange': 320,\n",
       "      '94:yellow 96:yellow': 280,\n",
       "      '94:yellow 96:red': 260,\n",
       "      '94:yellow 96:brown': 260,\n",
       "      '94:red 96:blue': 480,\n",
       "      '94:red 96:green': 400,\n",
       "      '94:red 96:orange': 320,\n",
       "      '94:red 96:yellow': 280,\n",
       "      '94:red 96:red': 260,\n",
       "      '94:red 96:brown': 260,\n",
       "      '94:green 96:blue': 240,\n",
       "      '94:green 96:green': 200,\n",
       "      '94:green 96:orange': 160,\n",
       "      '94:green 96:yellow': 140,\n",
       "      '94:green 96:red': 130,\n",
       "      '94:green 96:brown': 130,\n",
       "      '94:orange 96:blue': 240,\n",
       "      '94:orange 96:green': 200,\n",
       "      '94:orange 96:orange': 160,\n",
       "      '94:orange 96:yellow': 140,\n",
       "      '94:orange 96:red': 130,\n",
       "      '94:orange 96:brown': 130,\n",
       "      '94:tan 96:blue': 240,\n",
       "      '94:tan 96:green': 200,\n",
       "      '94:tan 96:orange': 160,\n",
       "      '94:tan 96:yellow': 140,\n",
       "      '94:tan 96:red': 130,\n",
       "      '94:tan 96:brown': 130})"
      ]
     },
     "execution_count": 38,
     "metadata": {},
     "output_type": "execute_result"
    }
   ],
   "source": [
    "bag94 = Dist(brown=30, yellow=20, red=20, green=10, orange=10, tan=10)\n",
    "bag96 = Dist(blue=24, green=20, orange=16, yellow=14, red=13, brown=13)\n",
    "MM = joint(bag94, bag96, '94:{} 96:{}'.format)\n",
    "MM"
   ]
  },
  {
   "cell_type": "code",
   "execution_count": 39,
   "metadata": {},
   "outputs": [
    {
     "data": {
      "text/plain": [
       "Dist({'94:yellow 96:green': 400, '94:green 96:yellow': 140})"
      ]
     },
     "execution_count": 39,
     "metadata": {},
     "output_type": "execute_result"
    }
   ],
   "source": [
    "# we observe that one is yellow and one is green (event)\n",
    "def yellow_and_green(outcome): return 'yellow' in outcome and 'green' in outcome\n",
    "\n",
    "# note we now pass a predicate to favorable to filter favorable outcomes\n",
    "favorable(yellow_and_green, MM)"
   ]
  },
  {
   "cell_type": "code",
   "execution_count": 40,
   "metadata": {},
   "outputs": [
    {
     "data": {
      "text/plain": [
       "0.7407407407407407"
      ]
     },
     "execution_count": 40,
     "metadata": {},
     "output_type": "execute_result"
    }
   ],
   "source": [
    "# What is the probability that the yellow M&M came from the 1994 bag? (event)\n",
    "def yellow94(outcome): return '94:yellow' in outcome\n",
    "\n",
    "# P now also accepts a predicate as event, since `favorable` is used underneath\n",
    "P(yellow94, favorable(yellow_and_green, MM))"
   ]
  },
  {
   "attachments": {},
   "cell_type": "markdown",
   "metadata": {},
   "source": [
    "Answering this question was straightforward: just like all the other probability\n",
    "problems, we simply create a sample space, and use `P` to pick out the\n",
    "probability of the event in question, given what we know about the outcome.\n",
    "\n",
    "Of course, we *could* solve it using Bayes Theorem. \n",
    "Why is Bayes Theorem recommended? \n",
    "Because we are **asked about the probability of an outcome given the evidence**&mdash;the probability the yellow came from the 94 bag, given that there is a yellow and a green. But the problem statement doesn't directly tell us the probability of that outcome given the evidence; it just tells us the probability of the evidence given the outcome. \n",
    "\n",
    "Before we see the colors of the M&Ms, there are two hypotheses, `A` and `B`, both with equal probability:\n",
    "\n",
    "    A: first M&M from 94 bag, second from 96 bag\n",
    "    B: first M&M from 96 bag, second from 94 bag\n",
    "    P(A) = P(B) = 0.5\n",
    "    \n",
    "Then we get some evidence:\n",
    "    \n",
    "    E: first M&M yellow, second green\n",
    "    \n",
    "We want to know the probability of hypothesis `A`, given the evidence:\n",
    "    \n",
    "    P(A | E)\n",
    "    \n",
    "That's not easy to calculate (except by enumerating the sample space, which our `P` function does). But Bayes Theorem says:\n",
    "    \n",
    "    P(A | E) = P(E | A) * P(A) / P(E)\n",
    "    \n",
    "The quantities on the right-hand-side are easier to calculate:\n",
    "    \n",
    "    P(E | A) = 0.20 * 0.20 = 0.04\n",
    "    P(E | B) = 0.10 * 0.14 = 0.014\n",
    "    P(A)     = 0.5\n",
    "    P(B)     = 0.5\n",
    "    P(E)     = P(E | A) * P(A) + P(E | B) * P(B) \n",
    "             = 0.04     * 0.5  + 0.014    * 0.5   =   0.027\n",
    "    \n",
    "And we can get a final answer:\n",
    "    \n",
    "    P(A | E) = P(E | A) * P(A) / P(E) \n",
    "             = 0.04     * 0.5  / 0.027 \n",
    "             = 0.7407407407\n",
    "             \n",
    "You have a choice: Bayes Theorem allows you to do less calculation at the cost\n",
    "of more algebra; that is a great trade-off if you are working with pencil and\n",
    "paper. Enumerating the sample space allows you to do less algebra at the cost of\n",
    "more calculation; usually a good trade-off if you have a computer. But\n",
    "regardless of the approach you use, it is important to understand Bayes theorem\n",
    "and how it works.\n"
   ]
  },
  {
   "attachments": {},
   "cell_type": "markdown",
   "metadata": {},
   "source": [
    "# The Central Limit Theorem "
   ]
  },
  {
   "cell_type": "code",
   "execution_count": 41,
   "metadata": {},
   "outputs": [],
   "source": [
    "%matplotlib inline \n",
    "import matplotlib.pyplot as plt\n",
    "from statistics import mean\n",
    "from random import normalvariate, triangular, choice, vonmisesvariate, uniform\n",
    "\n",
    "def normal(mu=0, sigma=1): return random.normalvariate(mu, sigma)\n",
    "\n",
    "def repeated_hist(dist, n=1_000_000, bins=100):\n",
    "    \"Sample the distribution n times and make a histogram of the results.\"\n",
    "    samples = [dist() for _ in range(n)]\n",
    "    plt.hist(samples, bins=bins, density=True)\n",
    "    plt.title('{} (μ = {:.1f})'.format(dist.__name__, mean(samples)))\n",
    "    plt.grid(axis='x')\n",
    "    plt.yticks([], '')\n",
    "    plt.show()"
   ]
  },
  {
   "cell_type": "code",
   "execution_count": 42,
   "metadata": {},
   "outputs": [
    {
     "data": {
      "image/png": "[encoded data removed]",
      "text/plain": [
       "<Figure size 640x480 with 1 Axes>"
      ]
     },
     "metadata": {},
     "output_type": "display_data"
    }
   ],
   "source": [
    "# Normal distribution\n",
    "repeated_hist(normal)"
   ]
  },
  {
   "cell_type": "code",
   "execution_count": 51,
   "metadata": {},
   "outputs": [
    {
     "data": {
      "image/png": "[encoded data removed]",
      "text/plain": [
       "<Figure size 640x480 with 1 Axes>"
      ]
     },
     "metadata": {},
     "output_type": "display_data"
    }
   ],
   "source": [
    "def sum10dice(): return sum(random.randint(1, 6) for _ in range(10))\n",
    "\n",
    "# distribution of the sum of ten rolled dice. more tries (n) -> the more it resembles the normal distribution\n",
    "repeated_hist(sum10dice, bins=range(10, 61), n=10000)"
   ]
  },
  {
   "cell_type": "code",
   "execution_count": 54,
   "metadata": {},
   "outputs": [
    {
     "data": {
      "image/png": "[encoded data removed]",
      "text/plain": [
       "<Figure size 640x480 with 1 Axes>"
      ]
     },
     "metadata": {},
     "output_type": "display_data"
    },
    {
     "data": {
      "image/png": "[encoded data removed]",
      "text/plain": [
       "<Figure size 640x480 with 1 Axes>"
      ]
     },
     "metadata": {},
     "output_type": "display_data"
    },
    {
     "data": {
      "image/png": "[encoded data removed]",
      "text/plain": [
       "<Figure size 640x480 with 1 Axes>"
      ]
     },
     "metadata": {},
     "output_type": "display_data"
    },
    {
     "data": {
      "image/png": "[encoded data removed]",
      "text/plain": [
       "<Figure size 640x480 with 1 Axes>"
      ]
     },
     "metadata": {},
     "output_type": "display_data"
    },
    {
     "data": {
      "image/png": "[encoded data removed]",
      "text/plain": [
       "<Figure size 640x480 with 1 Axes>"
      ]
     },
     "metadata": {},
     "output_type": "display_data"
    }
   ],
   "source": [
    "# As another example, let's take just *k* = 5 component distributions representing the \n",
    "# per-game scores of 5 basketball players, and then sum them together \n",
    "# to form the new distribution: the team score.\n",
    "\n",
    "def SC(): return max(0, normal(12.1, 3) + 3 * triangular(1, 13, 4))                     # 30.1\n",
    "def KT(): return max(0, triangular(8, 22, 15.3) + choice((0, 3 * triangular(1, 9, 4)))) # 22.1\n",
    "def DG(): return max(0, vonmisesvariate(30, 2) * 3.08)                                  # 14.0\n",
    "def HB(): return max(0, choice((normal(6.7, 1.5), normal(16.7, 2.5))))                  # 11.7\n",
    "def BE(): return max(0, normal(17, 3) + uniform(0, 40))                                 # 37.0\n",
    "\n",
    "team = (SC, KT, DG, HB, BE)\n",
    "\n",
    "def Team(team=team): return sum(player() for player in team)\n",
    "\n",
    "for player in team: \n",
    "    repeated_hist(player, bins=range(70), n=100000)"
   ]
  },
  {
   "cell_type": "code",
   "execution_count": 58,
   "metadata": {},
   "outputs": [
    {
     "data": {
      "image/png": "[encoded data removed]",
      "text/plain": [
       "<Figure size 640x480 with 1 Axes>"
      ]
     },
     "metadata": {},
     "output_type": "display_data"
    }
   ],
   "source": [
    "# We can see that none of the players above have a distribution that looks like a normal one.\n",
    "# Now we define the team score to be the sum of the *k* = 5 players, and display this new distribution:\n",
    "\n",
    "repeated_hist(Team, bins=range(50, 180), n=100000)\n",
    "\n",
    "# The **Central Limit Theorem** is the ultimate limit of other distributions, and appears to hold true in this case as well.\n",
    "# informally, the CLT is based on:\n",
    "# - Gather *k* independent distributions. They need not be normal-shaped (like our basketball player's).\n",
    "# - Define a new distribution to be the result of sampling one number from each of the *k* independent distributions and adding them up.\n",
    "# - As long as *k* is not too small, and the component distributions are not super-pathological, then the new distribution will tend towards a normal distribution.\n"
   ]
  },
  {
   "attachments": {},
   "cell_type": "markdown",
   "metadata": {},
   "source": [
    "## Continuous Sample Spaces\n",
    "\n",
    ">Two players go on a hot new game show called *Higher Number Wins.* The two go\n",
    ">into separate booths, and each presses a button, and a random number between\n",
    ">zero and one appears on a screen. (At this point, neither knows the other’s\n",
    ">number, but they do know the numbers are chosen from a standard uniform\n",
    ">distribution.) They can choose to keep that first number, or to press the\n",
    ">button again to discard the first number and get a second random number, which\n",
    ">they must keep. Then, they come out of their booths and see the final number\n",
    ">for each player on the wall. The lavish grand prize — a case full of gold\n",
    ">bullion — is awarded to the player who kept the higher number. \n",
    "\n",
    "Which number is the optimal cutoff for players to discard their first number and\n",
    "choose another? \n",
    "\n",
    "Put another way, within which range should they choose to keep the first number,\n",
    "and within which range should they reject it and try their luck with a second\n",
    "number?\n",
    "\n",
    "For example, if player **A** chooses a cutoff of *A* = 0.6, that means that **A** would accept any first number greater than 0.6, and reject any number below that cutoff. The question is: What cutoff, *A*, should player **A** choose to maximize the chance of winning, that is, maximize P(*a* > *b*)?"
   ]
  },
  {
   "cell_type": "code",
   "execution_count": 73,
   "metadata": {},
   "outputs": [
    {
     "data": {
      "text/plain": [
       "0.3271492778696721"
      ]
     },
     "execution_count": 73,
     "metadata": {},
     "output_type": "execute_result"
    }
   ],
   "source": [
    "number = random.random # [0..1]\n",
    "\n",
    "def strategy(cutoff):\n",
    "    \"Play the game with given cutoff, returning the first or second random number.\"\n",
    "    first = number()\n",
    "    return first if first > cutoff else number()\n",
    "\n",
    "strategy(.5)"
   ]
  },
  {
   "cell_type": "code",
   "execution_count": 80,
   "metadata": {},
   "outputs": [
    {
     "data": {
      "text/plain": [
       "0.5734"
      ]
     },
     "execution_count": 80,
     "metadata": {},
     "output_type": "execute_result"
    }
   ],
   "source": [
    "def Pwin(A, B, trials=10000):\n",
    "    \"The probability that cutoff A wins against cutoff B.\"\n",
    "    return mean(strategy(A) > strategy(B) \n",
    "                for _ in range(trials))\n",
    "    \n",
    "Pwin(0.6, 0.9)"
   ]
  },
  {
   "cell_type": "code",
   "execution_count": 81,
   "metadata": {},
   "outputs": [
    {
     "data": {
      "text/plain": [
       "[(0.54, 44),\n",
       " (0.55, 43),\n",
       " (0.56, 43),\n",
       " (0.6400000000000001, 43),\n",
       " (0.5800000000000001, 42),\n",
       " (0.5900000000000001, 41),\n",
       " (0.6300000000000001, 41),\n",
       " (0.5700000000000001, 40),\n",
       " (0.6100000000000001, 40),\n",
       " (0.53, 39)]"
      ]
     },
     "execution_count": 81,
     "metadata": {},
     "output_type": "execute_result"
    }
   ],
   "source": [
    "from numpy import arange\n",
    "\n",
    "def top(N, cutoffs):\n",
    "    \"Return the N best cutoffs and the number of opponent cutoffs they beat.\"\n",
    "    winners = Counter(A if Pwin(A, B) > 0.5 else B\n",
    "                      for (A, B) in itertools.combinations(cutoffs, 2))\n",
    "    return winners.most_common(N)\n",
    "\n",
    "top(10, arange(0.5, 1.0, 0.01))\n",
    "\n",
    "# We get a good idea of the top cutoffs, but they are close to each other, so we can't quite be sure which is best, \n",
    "# only that the best is somewhere around 0.60. We could get a better estimate by increasing the number of trials, but that would consume more time."
   ]
  },
  {
   "attachments": {},
   "cell_type": "markdown",
   "metadata": {},
   "source": [
    "### Exact Calculation"
   ]
  },
  {
   "cell_type": "code",
   "execution_count": null,
   "metadata": {},
   "outputs": [],
   "source": [
    "# see https://github.dev/norvig/pytudes/blob/main/ipynb/Probability.ipynb\n",
    "# spoiler, it's 0.618034. (https://en.wikipedia.org/wiki/Golden_ratio)"
   ]
  },
  {
   "attachments": {},
   "cell_type": "markdown",
   "metadata": {},
   "source": [
    "# Probability, Paradox, and the Reasonable Person Principle\n",
    "\n"
   ]
  },
  {
   "cell_type": "code",
   "execution_count": 2,
   "metadata": {},
   "outputs": [],
   "source": [
    "#\n",
    "# \n",
    "# required functions and some refactoring\n",
    "#\n",
    "#\n",
    "\n",
    "from fractions import Fraction\n",
    "\n",
    "class ProbDist(dict):\n",
    "    \"A Probability Distribution; an {outcome: probability} mapping.\"\n",
    "    def __init__(self, mapping=(), **kwargs):\n",
    "        self.update(mapping, **kwargs)\n",
    "        # Make probabilities sum to 1.0; assert no negative probabilities\n",
    "        total = sum(self.values())\n",
    "        for outcome in self:\n",
    "            self[outcome] = self[outcome] / total\n",
    "            assert self[outcome] >= 0\n",
    "            \n",
    "def P(event, space): \n",
    "    \"\"\"The probability of an event, given a sample space of equiprobable outcomes. \n",
    "    event: a collection of outcomes, or a predicate that is true of outcomes in the event. \n",
    "    space: a set of outcomes or a probability distribution of {outcome: frequency}.\"\"\"\n",
    "    if is_predicate(event):\n",
    "        event = such_that(event, space)\n",
    "    if isinstance(space, ProbDist):\n",
    "        return sum(space[o] for o in space if o in event)\n",
    "    else:\n",
    "        return Fraction(len(event & space), len(space))\n",
    "    \n",
    "def such_that(predicate, space): \n",
    "    \"\"\"The outcomes in the sample space for which the predicate is true.\n",
    "    If space is a set, return a subset {outcome,...};\n",
    "    if space is a ProbDist, return a ProbDist {outcome: frequency,...};\n",
    "    in both cases only with outcomes where predicate(element) is true.\"\"\"\n",
    "    if isinstance(space, ProbDist):\n",
    "        return ProbDist({o:space[o] for o in space if predicate(o)})\n",
    "    else:\n",
    "        return {o for o in space if predicate(o)}\n",
    "    \n",
    "is_predicate = callable\n",
    "\n",
    "def cross(A, B):\n",
    "    \"The set of ways of concatenating one item from collection A with one from B.\"\n",
    "    return {a + b \n",
    "            for a in A for b in B}\n",
    "\n",
    "def joint(A, B, sep=''):\n",
    "    \"\"\"The joint distribution of two independent probability distributions. \n",
    "    Result is all entries of the form {a+sep+b: P(a)*P(b)}\"\"\"\n",
    "    return ProbDist({a + sep + b: A[a] * B[b]\n",
    "                    for a in A\n",
    "                    for b in B})"
   ]
  },
  {
   "cell_type": "code",
   "execution_count": 33,
   "metadata": {},
   "outputs": [
    {
     "name": "stdout",
     "output_type": "stream",
     "text": [
      "['RBRRBBW', 'WWWWRBB', 'WRRRRWR']\n"
     ]
    },
    {
     "data": {
      "text/plain": [
       "Fraction(11, 243)"
      ]
     },
     "execution_count": 33,
     "metadata": {},
     "output_type": "execute_result"
    }
   ],
   "source": [
    "# solution to https://math.stackexchange.com/questions/1292902/the-probability-of-getting-at-least-5-balls-of-the-same-color-from-a-uniformly-d\n",
    "import random \n",
    "\n",
    "dist = ProbDist(W=42, G=42, R=42)\n",
    "\n",
    "# since we have >7 for every kind don't need to remove infeasible ones\n",
    "S = {\"\".join(i) for i in itertools.product(\"BRW\", repeat=7)}\n",
    "print(random.sample(list(S), 3))\n",
    "\n",
    "at_least_5_white = lambda outcome: outcome.count(\"W\") >= 5\n",
    "\n",
    "P(at_least_5_white, S)"
   ]
  },
  {
   "attachments": {},
   "cell_type": "markdown",
   "metadata": {},
   "source": [
    "## Child paradox\n",
    "\n",
    ">Mr. Smith has two children. At least one of them is a boy. What is\n",
    "the probability that both children are boys? \n",
    "\n",
    "The question is ambigous, leading to possible answers based on the\n",
    "interpretation. We need to know **HOW** we know one of them is a boy. i.e. we\n",
    "need to know \n",
    "\n",
    "_a_: He is asked if at least one of his children is a boy. He replies \"yes.\"\n",
    "_b_: He is observed at a time when he is accompanied by one of his children,\n",
    "chosen at random. The child is observed to be a boy. \n",
    "\n",
    "The sample space is different in both, since there are different outcomes.\n",
    "Did we observe the oldest or youngest child in _b_?"
   ]
  },
  {
   "cell_type": "code",
   "execution_count": 100,
   "metadata": {},
   "outputs": [
    {
     "name": "stdout",
     "output_type": "stream",
     "text": [
      "\n",
      "P_a=Fraction(1, 3)\n",
      "P_b=Fraction(1, 2)\n",
      "\n",
      "such_that(at_least_one_boy, S_a)={'BG', 'GB', 'BB'}\n",
      "such_that(observed_boy, S_b)={'BB/?b', 'GB/?b', 'BG/b?', 'BB/b?'}\n",
      "\n",
      "      \n"
     ]
    }
   ],
   "source": [
    "def no_boys(outcome): return outcome.count('B') == 0\n",
    "def one_boy(outcome): return outcome.count('B') == 1\n",
    "def two_boys(outcome): return outcome.count('B') == 2\n",
    "def three_boys(outcome): return outcome.count('B') == 3\n",
    "\n",
    "def one_or_more_boys(outcome): return outcome.count('B') >= 1\n",
    "def two_or_more_boys(outcome): return outcome.count('B') >= 2\n",
    "def three_or_more_boys(outcome): return outcome.count('B') >= 3\n",
    "\n",
    "def at_least_one_boy(outcome): return 'B' in outcome\n",
    "\n",
    "def older_is_a_boy(outcome): return outcome.startswith('B')\n",
    "\n",
    "def observed_boy(outcome): return 'b' in outcome\n",
    "\n",
    "S_a = {'BG', 'BB', 'GB', 'GG'}\n",
    "S_b = {'BB/b?', 'BB/?b', \n",
    "       'BG/b?', 'BG/?g', \n",
    "       'GB/g?', 'GB/?b', \n",
    "       'GG/g?', 'GG/?g'}\n",
    "\n",
    "P_a = P(two_boys, such_that(at_least_one_boy, S_a))\n",
    "P_b = P(two_boys, such_that(observed_boy, S_b))\n",
    "\n",
    "print(f\"\"\"\n",
    "{P_a=}\n",
    "{P_b=}\n",
    "\n",
    "{such_that(at_least_one_boy, S_a)=}\n",
    "{such_that(observed_boy, S_b)=}\n",
    "\n",
    "      \"\"\")\n",
    "\n"
   ]
  },
  {
   "cell_type": "code",
   "execution_count": 101,
   "metadata": {},
   "outputs": [
    {
     "name": "stdout",
     "output_type": "stream",
     "text": [
      "\n",
      "P_a=Fraction(3, 7)\n",
      "P_b=Fraction(1, 2) \n",
      "\n",
      "such_that(at_least_one_boy, S_a)={'BBG', 'BGB', 'GBB', 'BGG', 'GGB', 'BBB', 'GBG'}\n",
      "such_that(observed_boy, S_b)={'GBB/gb?', 'BGG/bg?', 'BBG/bb?', 'BGB/b?b', 'BBB/?bb', 'GBG/?bg', 'GBB/?bb', 'GBB/g?b', 'BGB/?gb', 'BGB/bg?', 'GGB/?gb', 'BBG/b?g', 'GBG/gb?', 'BGG/b?g', 'GGB/g?b', 'BBB/b?b', 'BBB/bb?', 'BBG/?bg'}\n",
      "\n",
      "      \n"
     ]
    }
   ],
   "source": [
    "import itertools\n",
    "\n",
    "# let's say it's 3 children now. At least 1 boy. Probability that 2 of them exactly are boys:\n",
    "S_a = {'BBB', 'BBG', 'BGB', 'BGG', 'GBB', 'GBG', 'GGB', 'GGG'}\n",
    "S_b = {\n",
    "    'BBB/?bb',\n",
    "    'BBB/b?b',\n",
    "    'BBB/bb?',\n",
    "    'BBG/?bg',\n",
    "    'BBG/b?g',\n",
    "    'BBG/bb?',\n",
    "    'BGB/?gb',\n",
    "    'BGB/b?b',\n",
    "    'BGB/bg?',\n",
    "    'BGG/?gg',\n",
    "    'BGG/b?g',\n",
    "    'BGG/bg?',\n",
    "    'GBB/?bb',\n",
    "    'GBB/g?b',\n",
    "    'GBB/gb?',\n",
    "    'GBG/?bg',\n",
    "    'GBG/g?g',\n",
    "    'GBG/gb?',\n",
    "    'GGB/?gb',\n",
    "    'GGB/g?b',\n",
    "    'GGB/gg?',\n",
    "    'GGG/?gg',\n",
    "    'GGG/g?g',\n",
    "    'GGG/gg?',\n",
    "}\n",
    "\n",
    "\n",
    "P_a = P(two_boys, such_that(at_least_one_boy, S_a))\n",
    "P_b = P(two_boys, such_that(observed_boy, S_b))\n",
    "\n",
    "print(f\"\"\"\n",
    "{P_a=}\n",
    "{P_b=} \n",
    "\n",
    "{such_that(at_least_one_boy, S_a)=}\n",
    "{such_that(observed_boy, S_b)=}\n",
    "\n",
    "      \"\"\")\n"
   ]
  },
  {
   "cell_type": "code",
   "execution_count": 102,
   "metadata": {},
   "outputs": [
    {
     "name": "stdout",
     "output_type": "stream",
     "text": [
      "\n",
      "P_no_boys=Fraction(0, 1) <-- clearly 0% since we observe 1 boy\n",
      "P_1_boy=Fraction(1, 3)\n",
      "P_2_boys=Fraction(1, 2)\n",
      "P_3_boys=Fraction(1, 6)\n",
      "\n",
      "math.isclose(P_no_boys+P_1_boy+P_2_boys+P_3_boys, 1)=True\n",
      "\n",
      "\n",
      "P_one_or_more_boys=Fraction(1, 1) <-- clearly 100% since we observe 1 boy\n",
      "P_two_or_more_boys=Fraction(2, 3)\n",
      "P_three_or_more_boys=Fraction(1, 6)\n",
      "\n"
     ]
    }
   ],
   "source": [
    "# looking closely at _b_:\n",
    "\n",
    "import math\n",
    "\n",
    "\n",
    "# exactly n boys\n",
    "P_no_boys=P(no_boys, such_that(observed_boy, S_b))\n",
    "P_1_boy=P(one_boy, such_that(observed_boy, S_b))\n",
    "P_2_boys=P(two_boys, such_that(observed_boy, S_b))\n",
    "P_3_boys=P(three_boys, such_that(observed_boy, S_b))\n",
    "\n",
    "print(f\"\"\"\n",
    "{P_no_boys=} <-- clearly 0% since we observe 1 boy\n",
    "{P_1_boy=}\n",
    "{P_2_boys=}\n",
    "{P_3_boys=}\n",
    "\n",
    "{math.isclose(P_no_boys+P_1_boy+P_2_boys+P_3_boys, 1)=}\n",
    "\"\"\")\n",
    "\n",
    "# analytically it would be conditional probability. \n",
    "P_one_or_more_boys=P(one_or_more_boys, such_that(observed_boy, S_b))\n",
    "P_two_or_more_boys=P(two_or_more_boys, such_that(observed_boy, S_b))\n",
    "P_three_or_more_boys=P(three_or_more_boys, such_that(observed_boy, S_b))\n",
    "\n",
    "print(f\"\"\"\n",
    "{P_one_or_more_boys=} <-- clearly 100% since we observe 1 boy\n",
    "{P_two_or_more_boys=}\n",
    "{P_three_or_more_boys=}\n",
    "\"\"\")\n",
    " "
   ]
  },
  {
   "cell_type": "code",
   "execution_count": 103,
   "metadata": {},
   "outputs": [
    {
     "data": {
      "text/plain": [
       "['B1B5', 'B1B3', 'B2B6', 'G5G2']"
      ]
     },
     "execution_count": 103,
     "metadata": {},
     "output_type": "execute_result"
    }
   ],
   "source": [
    "sexesdays = cross('BG', '1234567')\n",
    "S3 = cross(sexesdays, sexesdays)\n",
    "len(S3)\n",
    "\n",
    "random.sample(list(S3), 4)"
   ]
  },
  {
   "cell_type": "code",
   "execution_count": 104,
   "metadata": {},
   "outputs": [],
   "source": [
    "### Child Problem 3. One is a boy born on Tuesday. What's the probability  both are boys?\n",
    "\n",
    "# Most people can not imagine how the boy's birth-day-of-week could be relevant, \n",
    "# and feel the answer should be the same as Problem 2.  \n",
    "# But to be sure, we need to clearly describe the experiment, define the sample space, and calculate.  First:\n",
    "\n",
    "# - **Child Experiment 3a.** A parent is chosen at random from families with two children. She is asked if at least one of her children is a boy born on Tuesday. She replies \"yes.\"\n",
    "\n",
    "S_a = {'BG', 'BB', 'GB', 'GG'}\n",
    "\n",
    "# day of the week has no effect on the probability of having one boy, 2 boys...\n",
    "assert P(at_least_one_boy, S3) == P(at_least_one_boy, S_a)\n",
    "assert P(two_boys, S3) == P(two_boys, S_a)\n",
    "assert P(two_boys, such_that(at_least_one_boy, S3)) == P(two_boys, such_that(at_least_one_boy, S_a))\n"
   ]
  },
  {
   "cell_type": "code",
   "execution_count": 105,
   "metadata": {},
   "outputs": [
    {
     "data": {
      "text/plain": [
       "Fraction(13, 27)"
      ]
     },
     "execution_count": 105,
     "metadata": {},
     "output_type": "execute_result"
    }
   ],
   "source": [
    "def at_least_one_boy_tuesday(outcome): return 'B2' in outcome\n",
    "\n",
    "P(two_boys, such_that(at_least_one_boy_tuesday, S3))"
   ]
  },
  {
   "attachments": {},
   "cell_type": "markdown",
   "metadata": {},
   "source": [
    "13/27 is quite different from 1/3, but rather close to 1/2... We will prove and\n",
    "visualize later.\n",
    "\n",
    "Another interpretation for the problem, analogous to the one before:\n",
    "    \n",
    "A parent is chosen at random from families with two children. \n",
    "She is **observed** at a time when she is accompanied by one of her children, chosen at random.\n",
    "The child is **observed** to be a boy who reports that his birth day is Tuesday.\n",
    "\n",
    "We can represent outcomes in this sample space with a similar notation as before: `G1B3/??b3`, meaning the older child is a girl born on Sunday, the younger a boy born on Tuesday, the older was not observed, and the younger was."
   ]
  },
  {
   "cell_type": "code",
   "execution_count": 106,
   "metadata": {},
   "outputs": [
    {
     "data": {
      "text/plain": [
       "['G3G3/g3??', 'B3B1/??b1', 'B1B6/??b6', 'G3G2/g3??', 'B5G1/b5??']"
      ]
     },
     "execution_count": 106,
     "metadata": {},
     "output_type": "execute_result"
    }
   ],
   "source": [
    "def observed_boy_tues(outcome): return 'b2' in outcome\n",
    "def observed_boy_wed(outcome): return 'b3' in outcome\n",
    "def observed_boy_thu(outcome): return 'b4' in outcome\n",
    "\n",
    "S3b = {children + '/' + observation\n",
    "       for children in S3\n",
    "       for observation in (children[:2].lower()+'??', '??'+children[-2:].lower())}    \n",
    "     \n",
    "random.sample(list(S3b), 5)           "
   ]
  },
  {
   "cell_type": "code",
   "execution_count": 107,
   "metadata": {},
   "outputs": [
    {
     "data": {
      "text/plain": [
       "Fraction(1, 2)"
      ]
     },
     "execution_count": 107,
     "metadata": {},
     "output_type": "execute_result"
    }
   ],
   "source": [
    "P(two_boys, such_that(observed_boy_tues, S3b))"
   ]
  },
  {
   "cell_type": "code",
   "execution_count": 108,
   "metadata": {},
   "outputs": [],
   "source": [
    "# unsurprisingly, days of the week have no influence since we assume it's equiprobable\n",
    "assert P(two_boys, such_that(observed_boy_tues, S3b)) \\\n",
    "    == P(two_boys, such_that(observed_boy_wed, S3b)) \\\n",
    "    == P(two_boys, such_that(observed_boy_thu, S3b))\n",
    "        "
   ]
  },
  {
   "cell_type": "code",
   "execution_count": 109,
   "metadata": {},
   "outputs": [],
   "source": [
    "# proving 13/27 paradox\n",
    "\n",
    "from IPython.display import HTML\n",
    "\n",
    "def Pgrid(space, n, event, condition):\n",
    "    \"\"\"Display sample space in a grid, color-coded: green if event and condition is true; \n",
    "    yellow if only condition is true; white otherwise.\"\"\"\n",
    "    # n is the number of characters that make up the older child.\n",
    "    olders = sorted(set(outcome[:n] for outcome in space))\n",
    "    return HTML('<table>' +\n",
    "                cat(row(older, space, event, condition) for older in olders) +\n",
    "                '</table>' + \n",
    "                '<tt>P({} | {}) = {}</tt>'.format(\n",
    "                event.__name__, condition.__name__, \n",
    "                P(event, such_that(condition, space))))\n",
    "\n",
    "def row(older, space, event, condition):\n",
    "    \"Display a row where an older child is paired with each of the possible younger children.\"\n",
    "    thisrow = sorted(outcome for outcome in space if outcome.startswith(older))\n",
    "    return '<tr>' + cat(cell(outcome, event, condition) for outcome in thisrow) + '</tr>'\n",
    "\n",
    "def cell(outcome, event, condition): \n",
    "    \"Display outcome in appropriate color.\"\n",
    "    color = ('lightgreen' if event(outcome) and condition(outcome) else\n",
    "             'yellow' if condition(outcome) else\n",
    "             'white')\n",
    "    return '<td style=\"background-color: {}\">{}</td>'.format(color, outcome)    \n",
    "\n",
    "cat = ''.join"
   ]
  },
  {
   "cell_type": "code",
   "execution_count": 111,
   "metadata": {},
   "outputs": [
    {
     "data": {
      "text/html": [
       "<table><tr><td style=\"background-color: lightgreen\">BB</td><td style=\"background-color: yellow\">BG</td></tr><tr><td style=\"background-color: white\">GB</td><td style=\"background-color: white\">GG</td></tr></table><tt>P(two_boys | older_is_a_boy) = 1/2</tt>"
      ],
      "text/plain": [
       "<IPython.core.display.HTML object>"
      ]
     },
     "execution_count": 111,
     "metadata": {},
     "output_type": "execute_result"
    }
   ],
   "source": [
    "# Child Problem 1\n",
    "Pgrid(S_a, 1, two_boys, older_is_a_boy)"
   ]
  },
  {
   "cell_type": "code",
   "execution_count": 113,
   "metadata": {},
   "outputs": [
    {
     "data": {
      "text/html": [
       "<table><tr><td style=\"background-color: lightgreen\">BB</td><td style=\"background-color: yellow\">BG</td></tr><tr><td style=\"background-color: yellow\">GB</td><td style=\"background-color: white\">GG</td></tr></table><tt>P(two_boys | at_least_one_boy) = 1/3</tt>"
      ],
      "text/plain": [
       "<IPython.core.display.HTML object>"
      ]
     },
     "execution_count": 113,
     "metadata": {},
     "output_type": "execute_result"
    }
   ],
   "source": [
    "Pgrid(S_a, 1, two_boys, at_least_one_boy)\n"
   ]
  },
  {
   "cell_type": "code",
   "execution_count": 114,
   "metadata": {},
   "outputs": [
    {
     "data": {
      "text/html": [
       "<table><tr><td style=\"background-color: lightgreen\">B1B1</td><td style=\"background-color: lightgreen\">B1B2</td><td style=\"background-color: lightgreen\">B1B3</td><td style=\"background-color: lightgreen\">B1B4</td><td style=\"background-color: lightgreen\">B1B5</td><td style=\"background-color: lightgreen\">B1B6</td><td style=\"background-color: lightgreen\">B1B7</td><td style=\"background-color: yellow\">B1G1</td><td style=\"background-color: yellow\">B1G2</td><td style=\"background-color: yellow\">B1G3</td><td style=\"background-color: yellow\">B1G4</td><td style=\"background-color: yellow\">B1G5</td><td style=\"background-color: yellow\">B1G6</td><td style=\"background-color: yellow\">B1G7</td></tr><tr><td style=\"background-color: lightgreen\">B2B1</td><td style=\"background-color: lightgreen\">B2B2</td><td style=\"background-color: lightgreen\">B2B3</td><td style=\"background-color: lightgreen\">B2B4</td><td style=\"background-color: lightgreen\">B2B5</td><td style=\"background-color: lightgreen\">B2B6</td><td style=\"background-color: lightgreen\">B2B7</td><td style=\"background-color: yellow\">B2G1</td><td style=\"background-color: yellow\">B2G2</td><td style=\"background-color: yellow\">B2G3</td><td style=\"background-color: yellow\">B2G4</td><td style=\"background-color: yellow\">B2G5</td><td style=\"background-color: yellow\">B2G6</td><td style=\"background-color: yellow\">B2G7</td></tr><tr><td style=\"background-color: lightgreen\">B3B1</td><td style=\"background-color: lightgreen\">B3B2</td><td style=\"background-color: lightgreen\">B3B3</td><td style=\"background-color: lightgreen\">B3B4</td><td style=\"background-color: lightgreen\">B3B5</td><td style=\"background-color: lightgreen\">B3B6</td><td style=\"background-color: lightgreen\">B3B7</td><td style=\"background-color: yellow\">B3G1</td><td style=\"background-color: yellow\">B3G2</td><td style=\"background-color: yellow\">B3G3</td><td style=\"background-color: yellow\">B3G4</td><td style=\"background-color: yellow\">B3G5</td><td style=\"background-color: yellow\">B3G6</td><td style=\"background-color: yellow\">B3G7</td></tr><tr><td style=\"background-color: lightgreen\">B4B1</td><td style=\"background-color: lightgreen\">B4B2</td><td style=\"background-color: lightgreen\">B4B3</td><td style=\"background-color: lightgreen\">B4B4</td><td style=\"background-color: lightgreen\">B4B5</td><td style=\"background-color: lightgreen\">B4B6</td><td style=\"background-color: lightgreen\">B4B7</td><td style=\"background-color: yellow\">B4G1</td><td style=\"background-color: yellow\">B4G2</td><td style=\"background-color: yellow\">B4G3</td><td style=\"background-color: yellow\">B4G4</td><td style=\"background-color: yellow\">B4G5</td><td style=\"background-color: yellow\">B4G6</td><td style=\"background-color: yellow\">B4G7</td></tr><tr><td style=\"background-color: lightgreen\">B5B1</td><td style=\"background-color: lightgreen\">B5B2</td><td style=\"background-color: lightgreen\">B5B3</td><td style=\"background-color: lightgreen\">B5B4</td><td style=\"background-color: lightgreen\">B5B5</td><td style=\"background-color: lightgreen\">B5B6</td><td style=\"background-color: lightgreen\">B5B7</td><td style=\"background-color: yellow\">B5G1</td><td style=\"background-color: yellow\">B5G2</td><td style=\"background-color: yellow\">B5G3</td><td style=\"background-color: yellow\">B5G4</td><td style=\"background-color: yellow\">B5G5</td><td style=\"background-color: yellow\">B5G6</td><td style=\"background-color: yellow\">B5G7</td></tr><tr><td style=\"background-color: lightgreen\">B6B1</td><td style=\"background-color: lightgreen\">B6B2</td><td style=\"background-color: lightgreen\">B6B3</td><td style=\"background-color: lightgreen\">B6B4</td><td style=\"background-color: lightgreen\">B6B5</td><td style=\"background-color: lightgreen\">B6B6</td><td style=\"background-color: lightgreen\">B6B7</td><td style=\"background-color: yellow\">B6G1</td><td style=\"background-color: yellow\">B6G2</td><td style=\"background-color: yellow\">B6G3</td><td style=\"background-color: yellow\">B6G4</td><td style=\"background-color: yellow\">B6G5</td><td style=\"background-color: yellow\">B6G6</td><td style=\"background-color: yellow\">B6G7</td></tr><tr><td style=\"background-color: lightgreen\">B7B1</td><td style=\"background-color: lightgreen\">B7B2</td><td style=\"background-color: lightgreen\">B7B3</td><td style=\"background-color: lightgreen\">B7B4</td><td style=\"background-color: lightgreen\">B7B5</td><td style=\"background-color: lightgreen\">B7B6</td><td style=\"background-color: lightgreen\">B7B7</td><td style=\"background-color: yellow\">B7G1</td><td style=\"background-color: yellow\">B7G2</td><td style=\"background-color: yellow\">B7G3</td><td style=\"background-color: yellow\">B7G4</td><td style=\"background-color: yellow\">B7G5</td><td style=\"background-color: yellow\">B7G6</td><td style=\"background-color: yellow\">B7G7</td></tr><tr><td style=\"background-color: yellow\">G1B1</td><td style=\"background-color: yellow\">G1B2</td><td style=\"background-color: yellow\">G1B3</td><td style=\"background-color: yellow\">G1B4</td><td style=\"background-color: yellow\">G1B5</td><td style=\"background-color: yellow\">G1B6</td><td style=\"background-color: yellow\">G1B7</td><td style=\"background-color: white\">G1G1</td><td style=\"background-color: white\">G1G2</td><td style=\"background-color: white\">G1G3</td><td style=\"background-color: white\">G1G4</td><td style=\"background-color: white\">G1G5</td><td style=\"background-color: white\">G1G6</td><td style=\"background-color: white\">G1G7</td></tr><tr><td style=\"background-color: yellow\">G2B1</td><td style=\"background-color: yellow\">G2B2</td><td style=\"background-color: yellow\">G2B3</td><td style=\"background-color: yellow\">G2B4</td><td style=\"background-color: yellow\">G2B5</td><td style=\"background-color: yellow\">G2B6</td><td style=\"background-color: yellow\">G2B7</td><td style=\"background-color: white\">G2G1</td><td style=\"background-color: white\">G2G2</td><td style=\"background-color: white\">G2G3</td><td style=\"background-color: white\">G2G4</td><td style=\"background-color: white\">G2G5</td><td style=\"background-color: white\">G2G6</td><td style=\"background-color: white\">G2G7</td></tr><tr><td style=\"background-color: yellow\">G3B1</td><td style=\"background-color: yellow\">G3B2</td><td style=\"background-color: yellow\">G3B3</td><td style=\"background-color: yellow\">G3B4</td><td style=\"background-color: yellow\">G3B5</td><td style=\"background-color: yellow\">G3B6</td><td style=\"background-color: yellow\">G3B7</td><td style=\"background-color: white\">G3G1</td><td style=\"background-color: white\">G3G2</td><td style=\"background-color: white\">G3G3</td><td style=\"background-color: white\">G3G4</td><td style=\"background-color: white\">G3G5</td><td style=\"background-color: white\">G3G6</td><td style=\"background-color: white\">G3G7</td></tr><tr><td style=\"background-color: yellow\">G4B1</td><td style=\"background-color: yellow\">G4B2</td><td style=\"background-color: yellow\">G4B3</td><td style=\"background-color: yellow\">G4B4</td><td style=\"background-color: yellow\">G4B5</td><td style=\"background-color: yellow\">G4B6</td><td style=\"background-color: yellow\">G4B7</td><td style=\"background-color: white\">G4G1</td><td style=\"background-color: white\">G4G2</td><td style=\"background-color: white\">G4G3</td><td style=\"background-color: white\">G4G4</td><td style=\"background-color: white\">G4G5</td><td style=\"background-color: white\">G4G6</td><td style=\"background-color: white\">G4G7</td></tr><tr><td style=\"background-color: yellow\">G5B1</td><td style=\"background-color: yellow\">G5B2</td><td style=\"background-color: yellow\">G5B3</td><td style=\"background-color: yellow\">G5B4</td><td style=\"background-color: yellow\">G5B5</td><td style=\"background-color: yellow\">G5B6</td><td style=\"background-color: yellow\">G5B7</td><td style=\"background-color: white\">G5G1</td><td style=\"background-color: white\">G5G2</td><td style=\"background-color: white\">G5G3</td><td style=\"background-color: white\">G5G4</td><td style=\"background-color: white\">G5G5</td><td style=\"background-color: white\">G5G6</td><td style=\"background-color: white\">G5G7</td></tr><tr><td style=\"background-color: yellow\">G6B1</td><td style=\"background-color: yellow\">G6B2</td><td style=\"background-color: yellow\">G6B3</td><td style=\"background-color: yellow\">G6B4</td><td style=\"background-color: yellow\">G6B5</td><td style=\"background-color: yellow\">G6B6</td><td style=\"background-color: yellow\">G6B7</td><td style=\"background-color: white\">G6G1</td><td style=\"background-color: white\">G6G2</td><td style=\"background-color: white\">G6G3</td><td style=\"background-color: white\">G6G4</td><td style=\"background-color: white\">G6G5</td><td style=\"background-color: white\">G6G6</td><td style=\"background-color: white\">G6G7</td></tr><tr><td style=\"background-color: yellow\">G7B1</td><td style=\"background-color: yellow\">G7B2</td><td style=\"background-color: yellow\">G7B3</td><td style=\"background-color: yellow\">G7B4</td><td style=\"background-color: yellow\">G7B5</td><td style=\"background-color: yellow\">G7B6</td><td style=\"background-color: yellow\">G7B7</td><td style=\"background-color: white\">G7G1</td><td style=\"background-color: white\">G7G2</td><td style=\"background-color: white\">G7G3</td><td style=\"background-color: white\">G7G4</td><td style=\"background-color: white\">G7G5</td><td style=\"background-color: white\">G7G6</td><td style=\"background-color: white\">G7G7</td></tr></table><tt>P(two_boys | at_least_one_boy) = 1/3</tt>"
      ],
      "text/plain": [
       "<IPython.core.display.HTML object>"
      ]
     },
     "execution_count": 114,
     "metadata": {},
     "output_type": "execute_result"
    }
   ],
   "source": [
    "# Child Problem  with days of week enumerated\n",
    "Pgrid(S3, 2, two_boys, at_least_one_boy)"
   ]
  },
  {
   "cell_type": "code",
   "execution_count": 115,
   "metadata": {},
   "outputs": [
    {
     "data": {
      "text/html": [
       "<table><tr><td style=\"background-color: white\">B1B1</td><td style=\"background-color: lightgreen\">B1B2</td><td style=\"background-color: white\">B1B3</td><td style=\"background-color: white\">B1B4</td><td style=\"background-color: white\">B1B5</td><td style=\"background-color: white\">B1B6</td><td style=\"background-color: white\">B1B7</td><td style=\"background-color: white\">B1G1</td><td style=\"background-color: white\">B1G2</td><td style=\"background-color: white\">B1G3</td><td style=\"background-color: white\">B1G4</td><td style=\"background-color: white\">B1G5</td><td style=\"background-color: white\">B1G6</td><td style=\"background-color: white\">B1G7</td></tr><tr><td style=\"background-color: lightgreen\">B2B1</td><td style=\"background-color: lightgreen\">B2B2</td><td style=\"background-color: lightgreen\">B2B3</td><td style=\"background-color: lightgreen\">B2B4</td><td style=\"background-color: lightgreen\">B2B5</td><td style=\"background-color: lightgreen\">B2B6</td><td style=\"background-color: lightgreen\">B2B7</td><td style=\"background-color: yellow\">B2G1</td><td style=\"background-color: yellow\">B2G2</td><td style=\"background-color: yellow\">B2G3</td><td style=\"background-color: yellow\">B2G4</td><td style=\"background-color: yellow\">B2G5</td><td style=\"background-color: yellow\">B2G6</td><td style=\"background-color: yellow\">B2G7</td></tr><tr><td style=\"background-color: white\">B3B1</td><td style=\"background-color: lightgreen\">B3B2</td><td style=\"background-color: white\">B3B3</td><td style=\"background-color: white\">B3B4</td><td style=\"background-color: white\">B3B5</td><td style=\"background-color: white\">B3B6</td><td style=\"background-color: white\">B3B7</td><td style=\"background-color: white\">B3G1</td><td style=\"background-color: white\">B3G2</td><td style=\"background-color: white\">B3G3</td><td style=\"background-color: white\">B3G4</td><td style=\"background-color: white\">B3G5</td><td style=\"background-color: white\">B3G6</td><td style=\"background-color: white\">B3G7</td></tr><tr><td style=\"background-color: white\">B4B1</td><td style=\"background-color: lightgreen\">B4B2</td><td style=\"background-color: white\">B4B3</td><td style=\"background-color: white\">B4B4</td><td style=\"background-color: white\">B4B5</td><td style=\"background-color: white\">B4B6</td><td style=\"background-color: white\">B4B7</td><td style=\"background-color: white\">B4G1</td><td style=\"background-color: white\">B4G2</td><td style=\"background-color: white\">B4G3</td><td style=\"background-color: white\">B4G4</td><td style=\"background-color: white\">B4G5</td><td style=\"background-color: white\">B4G6</td><td style=\"background-color: white\">B4G7</td></tr><tr><td style=\"background-color: white\">B5B1</td><td style=\"background-color: lightgreen\">B5B2</td><td style=\"background-color: white\">B5B3</td><td style=\"background-color: white\">B5B4</td><td style=\"background-color: white\">B5B5</td><td style=\"background-color: white\">B5B6</td><td style=\"background-color: white\">B5B7</td><td style=\"background-color: white\">B5G1</td><td style=\"background-color: white\">B5G2</td><td style=\"background-color: white\">B5G3</td><td style=\"background-color: white\">B5G4</td><td style=\"background-color: white\">B5G5</td><td style=\"background-color: white\">B5G6</td><td style=\"background-color: white\">B5G7</td></tr><tr><td style=\"background-color: white\">B6B1</td><td style=\"background-color: lightgreen\">B6B2</td><td style=\"background-color: white\">B6B3</td><td style=\"background-color: white\">B6B4</td><td style=\"background-color: white\">B6B5</td><td style=\"background-color: white\">B6B6</td><td style=\"background-color: white\">B6B7</td><td style=\"background-color: white\">B6G1</td><td style=\"background-color: white\">B6G2</td><td style=\"background-color: white\">B6G3</td><td style=\"background-color: white\">B6G4</td><td style=\"background-color: white\">B6G5</td><td style=\"background-color: white\">B6G6</td><td style=\"background-color: white\">B6G7</td></tr><tr><td style=\"background-color: white\">B7B1</td><td style=\"background-color: lightgreen\">B7B2</td><td style=\"background-color: white\">B7B3</td><td style=\"background-color: white\">B7B4</td><td style=\"background-color: white\">B7B5</td><td style=\"background-color: white\">B7B6</td><td style=\"background-color: white\">B7B7</td><td style=\"background-color: white\">B7G1</td><td style=\"background-color: white\">B7G2</td><td style=\"background-color: white\">B7G3</td><td style=\"background-color: white\">B7G4</td><td style=\"background-color: white\">B7G5</td><td style=\"background-color: white\">B7G6</td><td style=\"background-color: white\">B7G7</td></tr><tr><td style=\"background-color: white\">G1B1</td><td style=\"background-color: yellow\">G1B2</td><td style=\"background-color: white\">G1B3</td><td style=\"background-color: white\">G1B4</td><td style=\"background-color: white\">G1B5</td><td style=\"background-color: white\">G1B6</td><td style=\"background-color: white\">G1B7</td><td style=\"background-color: white\">G1G1</td><td style=\"background-color: white\">G1G2</td><td style=\"background-color: white\">G1G3</td><td style=\"background-color: white\">G1G4</td><td style=\"background-color: white\">G1G5</td><td style=\"background-color: white\">G1G6</td><td style=\"background-color: white\">G1G7</td></tr><tr><td style=\"background-color: white\">G2B1</td><td style=\"background-color: yellow\">G2B2</td><td style=\"background-color: white\">G2B3</td><td style=\"background-color: white\">G2B4</td><td style=\"background-color: white\">G2B5</td><td style=\"background-color: white\">G2B6</td><td style=\"background-color: white\">G2B7</td><td style=\"background-color: white\">G2G1</td><td style=\"background-color: white\">G2G2</td><td style=\"background-color: white\">G2G3</td><td style=\"background-color: white\">G2G4</td><td style=\"background-color: white\">G2G5</td><td style=\"background-color: white\">G2G6</td><td style=\"background-color: white\">G2G7</td></tr><tr><td style=\"background-color: white\">G3B1</td><td style=\"background-color: yellow\">G3B2</td><td style=\"background-color: white\">G3B3</td><td style=\"background-color: white\">G3B4</td><td style=\"background-color: white\">G3B5</td><td style=\"background-color: white\">G3B6</td><td style=\"background-color: white\">G3B7</td><td style=\"background-color: white\">G3G1</td><td style=\"background-color: white\">G3G2</td><td style=\"background-color: white\">G3G3</td><td style=\"background-color: white\">G3G4</td><td style=\"background-color: white\">G3G5</td><td style=\"background-color: white\">G3G6</td><td style=\"background-color: white\">G3G7</td></tr><tr><td style=\"background-color: white\">G4B1</td><td style=\"background-color: yellow\">G4B2</td><td style=\"background-color: white\">G4B3</td><td style=\"background-color: white\">G4B4</td><td style=\"background-color: white\">G4B5</td><td style=\"background-color: white\">G4B6</td><td style=\"background-color: white\">G4B7</td><td style=\"background-color: white\">G4G1</td><td style=\"background-color: white\">G4G2</td><td style=\"background-color: white\">G4G3</td><td style=\"background-color: white\">G4G4</td><td style=\"background-color: white\">G4G5</td><td style=\"background-color: white\">G4G6</td><td style=\"background-color: white\">G4G7</td></tr><tr><td style=\"background-color: white\">G5B1</td><td style=\"background-color: yellow\">G5B2</td><td style=\"background-color: white\">G5B3</td><td style=\"background-color: white\">G5B4</td><td style=\"background-color: white\">G5B5</td><td style=\"background-color: white\">G5B6</td><td style=\"background-color: white\">G5B7</td><td style=\"background-color: white\">G5G1</td><td style=\"background-color: white\">G5G2</td><td style=\"background-color: white\">G5G3</td><td style=\"background-color: white\">G5G4</td><td style=\"background-color: white\">G5G5</td><td style=\"background-color: white\">G5G6</td><td style=\"background-color: white\">G5G7</td></tr><tr><td style=\"background-color: white\">G6B1</td><td style=\"background-color: yellow\">G6B2</td><td style=\"background-color: white\">G6B3</td><td style=\"background-color: white\">G6B4</td><td style=\"background-color: white\">G6B5</td><td style=\"background-color: white\">G6B6</td><td style=\"background-color: white\">G6B7</td><td style=\"background-color: white\">G6G1</td><td style=\"background-color: white\">G6G2</td><td style=\"background-color: white\">G6G3</td><td style=\"background-color: white\">G6G4</td><td style=\"background-color: white\">G6G5</td><td style=\"background-color: white\">G6G6</td><td style=\"background-color: white\">G6G7</td></tr><tr><td style=\"background-color: white\">G7B1</td><td style=\"background-color: yellow\">G7B2</td><td style=\"background-color: white\">G7B3</td><td style=\"background-color: white\">G7B4</td><td style=\"background-color: white\">G7B5</td><td style=\"background-color: white\">G7B6</td><td style=\"background-color: white\">G7B7</td><td style=\"background-color: white\">G7G1</td><td style=\"background-color: white\">G7G2</td><td style=\"background-color: white\">G7G3</td><td style=\"background-color: white\">G7G4</td><td style=\"background-color: white\">G7G5</td><td style=\"background-color: white\">G7G6</td><td style=\"background-color: white\">G7G7</td></tr></table><tt>P(two_boys | at_least_one_boy_tuesday) = 13/27</tt>"
      ],
      "text/plain": [
       "<IPython.core.display.HTML object>"
      ]
     },
     "execution_count": 115,
     "metadata": {},
     "output_type": "execute_result"
    }
   ],
   "source": [
    "Pgrid(S3, 2, two_boys, at_least_one_boy_tuesday)"
   ]
  },
  {
   "attachments": {},
   "cell_type": "markdown",
   "metadata": {},
   "source": [
    "We see there are 27 relevant outcomes, of which 13 are green. So 13/27 really\n",
    "does seem to be the right answer. \n",
    "\n",
    "This picture also gives us a way to think about why the answer is not 1/3. \n",
    "Think of the yellow-plus-green area as a horizontal stripe and a vertical\n",
    "stripe, with an overlap. \n",
    "\n",
    "Each stripe is half yellow and half green, so if there\n",
    "were no overlap at all, the probability of green would be 1/2.  When each stripe\n",
    "takes up half the sample space and the overlap is maximal, the probability is\n",
    "1/3. And in the Problem 3 table, where the overlap is small, the probability is\n",
    "close to 1/2 (but slightly smaller).\n",
    "\n",
    "\n",
    "One way to look at it is that if I tell you very specific information (such as a\n",
    "boy born on Tuesday), it is unlikely that this applies to both children, so we\n",
    "have smaller overlap and a probability closer to 1/2, but if I give you broad\n",
    "information (a boy), this is more likely to apply to either child, resulting in\n",
    "a larger overlap, and a probability closer to 1/3.\n"
   ]
  },
  {
   "attachments": {},
   "cell_type": "markdown",
   "metadata": {},
   "source": [
    "# The Sleeping Beauty Paradox\n",
    "\n",
    ">Sleeping Beauty volunteers to undergo the following experiment and is told all of the following details: On Sunday she will be put to sleep. Then a fair coin will be tossed,\n",
    "to determine which experimental procedure to undertake:\n",
    "- Heads: Beauty will be awakened and interviewed on Monday only.\n",
    "- Tails: Beauty will be awakened and interviewed on Monday and Tuesday only.\n",
    "\n",
    "> In all cases she is put back to sleep with an amnesia-inducing drug.\n",
    "> In any case, she will be awakened on Wednesday without interview and the\n",
    "> experiment ends. Any time Beauty is awakened and interviewed, she is asked, \n",
    "> \"What is your belief now for the proposition that the coin landed heads?\""
   ]
  },
  {
   "cell_type": "code",
   "execution_count": 116,
   "metadata": {},
   "outputs": [
    {
     "data": {
      "text/plain": [
       "Fraction(1, 3)"
      ]
     },
     "execution_count": 116,
     "metadata": {},
     "output_type": "execute_result"
    }
   ],
   "source": [
    "B = {\n",
    "    'heads/Monday/interviewed',  # outcome where the coin flip was heads, it is Monday, and she is interviewed\n",
    "    'heads/Tuesday/sleep',\n",
    "    'tails/Monday/interviewed', \n",
    "    'tails/Tuesday/interviewed',\n",
    "    }\n",
    "\n",
    "def T(property):\n",
    "    \"Return a predicate that is true of all outcomes that have 'property' as a substring.\"\n",
    "    return lambda outcome: property in outcome\n",
    "\n",
    "P(T(\"heads\"), such_that(T(\"interviewed\"), B))"
   ]
  },
  {
   "attachments": {},
   "cell_type": "markdown",
   "metadata": {},
   "source": [
    "This problem is considered a paradox because there are people who argue that the answer should be 1/2, not 1/3. I admit I'm having difficulty coming up with a sample space that supports the \"halfer\" position. \n",
    "\n",
    "I do know of a question that has the answer 1/2:\n",
    "\n",
    "`P(T(\"heads\"), B)` is `Fraction(1, 2)`\n",
    "\n",
    "But that seems like the wrong question; we want the probability of heads given that Sleeping Beauty was interviewed, not the unconditional probability of heads.\n",
    "\n",
    "The \"halfers\" argue that before Sleeping Beauty goes to sleep, her unconditional probability for heads should be 1/2. When she is interviewed, she doesn't know anything more than before she went to sleep, so nothing has changed, so the probability of heads should still be 1/2. I find two flaws with this argument. First, if you want to convince me, show me a sample space; don't just make philosophical arguments. (Although a philosophical argument can be employed to help you define the right sample space.) Second, while I agree that before she goes to sleep, Beauty's *unconditional* probability for heads should be 1/2, I would say that both before she goes to sleep and when she is awakened, her *conditional* probability of heads *given that she is being interviewed* should be 1/3, as shown by the sample space."
   ]
  },
  {
   "attachments": {},
   "cell_type": "markdown",
   "metadata": {},
   "source": [
    "\n",
    "## References\n",
    "\n",
    "- Peter Norvig's [ipynb](https://github.com/norvig/pytudes/blob/main/ipynb)\n",
    "\n",
    "\n",
    "## Resources and recommended reading\n",
    "\n",
    "- Statistics in a nutshell\n",
    "- All of Statistics"
   ]
  }
 ],
 "metadata": {
  "kernelspec": {
   "display_name": "Python 3",
   "language": "python",
   "name": "python3"
  },
  "language_info": {
   "codemirror_mode": {
    "name": "ipython",
    "version": 3
   },
   "file_extension": ".py",
   "mimetype": "text/x-python",
   "name": "python",
   "nbconvert_exporter": "python",
   "pygments_lexer": "ipython3",
   "version": "3.10.7"
  },
  "orig_nbformat": 4,
  "vscode": {
   "interpreter": {
    "hash": "2e042ac6df051bd220b87b1a52ea5c2603f84b3b8808cab67b8baac889833ce9"
   }
  }
 },
 "nbformat": 4,
 "nbformat_minor": 2
}
