{
 "cells": [
  {
   "attachments": {},
   "cell_type": "markdown",
   "metadata": {},
   "source": [
    "## Terminology\n",
    "\n",
    "- **Trial**: single occurrence with an outcome that is uncertain until we observe it.\n",
    "For example, rolling a single die.\n",
    "- **Outcome**: possible result of a trial; one particular state of the world. What Laplace calls a case.\n",
    "For example: 4.\n",
    "- **Sample Space**: The set of all possible outcomes for the trial.\n",
    "For example, $\\{1, 2, 3, 4, 5, 6\\}$.\n",
    "- **Event**: subset of the sample space, a set of outcomes that together have some property we are interested in.\n",
    "For example, the event \"odd die roll\" is the set of outcomes $\\{1,3,5\\}$.\n",
    "- **Probability**: As Laplace said, the probability of an event with respect to\n",
    "  a sample space is the \"number of favorable cases\" (outcomes from the sample\n",
    "  space that are in the event) divided by the \"number of all the cases\" in the\n",
    "  sample space (assuming \"nothing leads us to expect that any one of these cases\n",
    "  should occur more than any other\"), so $P \\in [0,1]$.\n",
    "  For example, the probability of an odd die roll is $3/6 = 1/2$.\n",
    "- **Frequency**: non-negative number describing how often an outcome occurs. Can be a count like 5, or a ratio like 1/6.\n",
    "- **Distribution**: mapping from outcome to frequency of that outcome. We will allow sample spaces to be distributions. \n",
    "- **Probability Distribution**: distribution whose frequencies sum to 1. \n"
   ]
  },
  {
   "attachments": {},
   "cell_type": "markdown",
   "metadata": {},
   "source": [
    "## Introduction\n",
    "\n",
    "Sampling table: \n",
    "  * with replacement: we can pick the same item again (rolling dice, coin flip)\n",
    "  * without replacement: cannot choose again (pick a ball, team player...)\n",
    "\n",
    "\n",
    "  &nbsp; | Order matters | Order doesn't matter\n",
    "---------|----------|---------\n",
    " Replace | $n^k$ | $n+k-1 \\choose k$\n",
    " Don't replace | $\\frac{n!}{(n - k)!}$ | ${n \\choose k} = \\frac{n!}{(n - k)! \\times k!}$\n",
    "\n",
    "### die rolling implementation"
   ]
  },
  {
   "cell_type": "code",
   "execution_count": 263,
   "metadata": {},
   "outputs": [],
   "source": [
    "from fractions import Fraction\n",
    "\n",
    "def P(event, space):\n",
    "    \"The probability of an event, given a sample space.\"\n",
    "    return Fraction(cases(favorable(event, space)),cases(space))\n",
    "\n",
    "favorable = set.intersection # Outcomes that are in the event and in the sample space\n",
    "cases     = len              # The number of cases is the length, or size, of a set\n",
    "\n",
    "D     = {1, 2, 3, 4, 5, 6} # a sample space\n",
    "even  = {   2,    4,    6} # an event\n",
    "# NB: intersected with sample space to get favorable outcomes\n",
    "odd   = {1, 3, 5, 7, 9, 11, 13}\n",
    "prime = {2, 3, 5, 7, 11, 13}"
   ]
  },
  {
   "cell_type": "code",
   "execution_count": 264,
   "metadata": {},
   "outputs": [
    {
     "data": {
      "text/plain": [
       "Fraction(1, 2)"
      ]
     },
     "execution_count": 264,
     "metadata": {},
     "output_type": "execute_result"
    }
   ],
   "source": [
    "P(even, D)"
   ]
  },
  {
   "cell_type": "code",
   "execution_count": 265,
   "metadata": {},
   "outputs": [
    {
     "data": {
      "text/plain": [
       "Fraction(1, 2)"
      ]
     },
     "execution_count": 265,
     "metadata": {},
     "output_type": "execute_result"
    }
   ],
   "source": [
    "P(odd, D)"
   ]
  },
  {
   "cell_type": "code",
   "execution_count": 266,
   "metadata": {},
   "outputs": [
    {
     "data": {
      "text/plain": [
       "Fraction(5, 6)"
      ]
     },
     "execution_count": 266,
     "metadata": {},
     "output_type": "execute_result"
    }
   ],
   "source": [
    "P((even | prime), D) # The probability of an even or prime die roll"
   ]
  },
  {
   "cell_type": "code",
   "execution_count": 267,
   "metadata": {},
   "outputs": [
    {
     "data": {
      "text/plain": [
       "Fraction(1, 3)"
      ]
     },
     "execution_count": 267,
     "metadata": {},
     "output_type": "execute_result"
    }
   ],
   "source": [
    "P((odd & prime), D) # The probability of an odd prime die roll"
   ]
  },
  {
   "attachments": {},
   "cell_type": "markdown",
   "metadata": {},
   "source": [
    "### Card problems"
   ]
  },
  {
   "cell_type": "code",
   "execution_count": 268,
   "metadata": {},
   "outputs": [],
   "source": [
    "import itertools\n",
    "import random\n",
    "\n",
    "def combos(items, n):\n",
    "    \"All combinations of n items; each combo as a space-separated str.\"\n",
    "    return list(set(map(' '.join, itertools.combinations(items, n))))\n",
    "\n",
    "suits = u'♥♠♦♣'\n",
    "ranks = u'AKQJT98765432'\n",
    "deck  = [r + s for r in ranks for s in suits] # 52\n",
    "# sample space of all 5-card combinations from deck\n",
    "Hands = combos(deck, 5) # 2598960"
   ]
  },
  {
   "cell_type": "code",
   "execution_count": 269,
   "metadata": {},
   "outputs": [
    {
     "data": {
      "text/plain": [
       "['A♦ K♣ 7♥ 5♠ 4♣',\n",
       " 'T♠ 9♦ 8♦ 4♠ 3♣',\n",
       " 'K♠ K♣ 8♣ 3♠ 3♣',\n",
       " 'K♣ J♦ T♣ 9♠ 7♠',\n",
       " 'A♣ Q♠ 7♦ 4♣ 3♦',\n",
       " 'T♣ 8♠ 5♦ 3♥ 3♦',\n",
       " 'T♦ 9♥ 6♥ 6♣ 3♠']"
      ]
     },
     "execution_count": 269,
     "metadata": {},
     "output_type": "execute_result"
    }
   ],
   "source": [
    "random.sample(Hands, 7)\n"
   ]
  },
  {
   "cell_type": "code",
   "execution_count": 270,
   "metadata": {},
   "outputs": [
    {
     "data": {
      "text/plain": [
       "['K♣', '8♠', '3♠', 'K♠', '2♠', '4♠', '8♣']"
      ]
     },
     "execution_count": 270,
     "metadata": {},
     "output_type": "execute_result"
    }
   ],
   "source": [
    "random.sample(deck, 7)"
   ]
  },
  {
   "cell_type": "code",
   "execution_count": 271,
   "metadata": {},
   "outputs": [
    {
     "data": {
      "text/plain": [
       "Fraction(33, 16660)"
      ]
     },
     "execution_count": 271,
     "metadata": {},
     "output_type": "execute_result"
    }
   ],
   "source": [
    "# 5 cards of the same suit\n",
    "flush = {hand for hand in Hands if any(hand.count(suit) == 5 for suit in suits)}\n",
    "P(flush, Hands)"
   ]
  },
  {
   "cell_type": "code",
   "execution_count": 272,
   "metadata": {},
   "outputs": [
    {
     "data": {
      "text/plain": [
       "Fraction(1, 4165)"
      ]
     },
     "execution_count": 272,
     "metadata": {},
     "output_type": "execute_result"
    }
   ],
   "source": [
    "four_kind = {hand for hand in Hands if any(hand.count(rank) == 4 for rank in ranks)}\n",
    "P(four_kind, Hands) # e.g. 4 kings"
   ]
  },
  {
   "attachments": {},
   "cell_type": "markdown",
   "metadata": {},
   "source": [
    "## Urn Problems\n",
    "\n",
    "> *An urn contains 6 blue, 9 red, and 8 white balls.  We select 6 balls at random. What is the probability of each of these  outcomes:*\n",
    "> \n",
    "> - *All balls are red*.\n",
    "> - *3 are blue, and 1 is red, and 2 are white, *.\n",
    "> - *Exactly 4 balls are white*."
   ]
  },
  {
   "cell_type": "code",
   "execution_count": 273,
   "metadata": {},
   "outputs": [
    {
     "data": {
      "text/plain": [
       "['B5 W5 B3 R1 B2 R4']"
      ]
     },
     "execution_count": 273,
     "metadata": {},
     "output_type": "execute_result"
    }
   ],
   "source": [
    "def balls(color, n):\n",
    "    \"A set of n numbered balls of the given color.\"\n",
    "    return {color + str(i)\n",
    "            for i in range(1, n + 1)}\n",
    "\n",
    "urn = list(balls('B', 6) | balls('R', 9) | balls('W', 8))\n",
    "\n",
    "U6 = combos(urn, 6) \n",
    "\"\"\"sample space (we select 6 random balls)\"\"\"\n",
    "\n",
    "random.sample(U6, 1)"
   ]
  },
  {
   "cell_type": "code",
   "execution_count": 274,
   "metadata": {},
   "outputs": [],
   "source": [
    "def select(color, n, space=U6):\n",
    "    \"\"\"\n",
    "    The subset of the sample space with exactly `n` balls of given `color`.\n",
    "    Example: `select('R', 6)` is the event of picking 6 red balls from the urn\n",
    "    \"\"\"\n",
    "    return {s for s in space if s.count(color) == n}"
   ]
  },
  {
   "cell_type": "code",
   "execution_count": 275,
   "metadata": {},
   "outputs": [
    {
     "data": {
      "text/plain": [
       "Fraction(4, 4807)"
      ]
     },
     "execution_count": 275,
     "metadata": {},
     "output_type": "execute_result"
    }
   ],
   "source": [
    "# *All balls are red*.\n",
    "P(select('R', 6), U6) "
   ]
  },
  {
   "cell_type": "code",
   "execution_count": 276,
   "metadata": {},
   "outputs": [
    {
     "data": {
      "text/plain": [
       "Fraction(240, 4807)"
      ]
     },
     "execution_count": 276,
     "metadata": {},
     "output_type": "execute_result"
    }
   ],
   "source": [
    "# *3 are blue, and 1 is red, and 2 are white, *.\n",
    "P(select('B', 3) & select('R', 1) & select('W', 2), U6)"
   ]
  },
  {
   "cell_type": "code",
   "execution_count": 277,
   "metadata": {},
   "outputs": [
    {
     "data": {
      "text/plain": [
       "Fraction(350, 4807)"
      ]
     },
     "execution_count": 277,
     "metadata": {},
     "output_type": "execute_result"
    }
   ],
   "source": [
    "# 4 balls (only) are white\n",
    "P(select('W', 4), U6)\n"
   ]
  },
  {
   "attachments": {},
   "cell_type": "markdown",
   "metadata": {},
   "source": [
    "TODO: what about probability that 3 or more are white (not necessarily consecutive)? \n",
    "\n",
    "see\n",
    "https://math.stackexchange.com/questions/1292902/the-probability-of-getting-at-least-5-balls-of-the-same-color-from-a-uniformly-d\n",
    "which is basically the same exact problem.\n",
    "\n",
    "we should first simplify the problem by grouping useless balls: i.e. combine blue\n",
    "and red as \"?\".\n",
    "\n",
    "The probability of any of the _+3 white balls_ event\n",
    "(WWW???, ?W?WW?, ??WWW?, ...) is based on order matters without replacement\n",
    "\n",
    "\n"
   ]
  },
  {
   "cell_type": "code",
   "execution_count": null,
   "metadata": {},
   "outputs": [],
   "source": []
  },
  {
   "cell_type": "code",
   "execution_count": 278,
   "metadata": {},
   "outputs": [],
   "source": []
  },
  {
   "attachments": {},
   "cell_type": "markdown",
   "metadata": {},
   "source": [
    "### Verifying urn calculations with arithmetic\n",
    "\n",
    "Let's verify the first question of drawing exactly 6 red balls.\n",
    "\n",
    "We need to first answer _how many ways can I choose 6 out of 9 red balls?_\n",
    "\n",
    "$$\n",
    "6 \\choose 9\n",
    "$$\n",
    "\n",
    "If we care about the order in which they're drawn, the number of ways of choosing $k$ out of $n$ items is:\n",
    "\n",
    "$$\n",
    "\\frac{n!}{(n - k)!}\n",
    "$$\n",
    "\n",
    "But if we don't care about the *order* of the six drawn balls, we can divide\n",
    "that product by the number of permutations of 6 things, i.e. 6:\n",
    "\n",
    "$$\n",
    "\\frac{n!}{(n - k)! \\times k!} = {n \\choose k}\n",
    "$$\n",
    "\n",
    "\n",
    "\n"
   ]
  },
  {
   "cell_type": "code",
   "execution_count": 279,
   "metadata": {},
   "outputs": [
    {
     "data": {
      "text/plain": [
       "84"
      ]
     },
     "execution_count": 279,
     "metadata": {},
     "output_type": "execute_result"
    }
   ],
   "source": [
    "from math import factorial\n",
    "\n",
    "def choose(n, k):\n",
    "    \"Number of ways to choose k items from a list of n items without taking order into account.\"\n",
    "    return factorial(n) // (factorial(n - k) * factorial(k))\n",
    "\n",
    "choose(9, 6)"
   ]
  },
  {
   "cell_type": "code",
   "execution_count": 280,
   "metadata": {},
   "outputs": [
    {
     "name": "stdout",
     "output_type": "stream",
     "text": [
      "True\n",
      "True\n"
     ]
    }
   ],
   "source": [
    "N = len(U6)\n",
    "\n",
    "# `P` computes a ratio and `choose` computes a count,\n",
    "# so we can multiply the probability back by the denominator `cases(space)`, i.e. len(U6) \n",
    "# so that both are counts.\n",
    "print(N * P(select('R', 6), U6) == choose(9, 6))\n",
    "# which is just:\n",
    "print(len(favorable(select('R', 6), U6)) == choose(9, 6))"
   ]
  },
  {
   "cell_type": "code",
   "execution_count": 281,
   "metadata": {},
   "outputs": [
    {
     "data": {
      "text/plain": [
       "True"
      ]
     },
     "execution_count": 281,
     "metadata": {},
     "output_type": "execute_result"
    }
   ],
   "source": [
    "# 3 are blue, and 1 is red, and 2 are white\n",
    "\n",
    "N * P(select('B', 3) & select('W', 2) & select('R', 1), U6) == choose(6, 3) * choose(9, 1) * choose(8, 2) "
   ]
  },
  {
   "cell_type": "code",
   "execution_count": 282,
   "metadata": {},
   "outputs": [
    {
     "data": {
      "text/plain": [
       "True"
      ]
     },
     "execution_count": 282,
     "metadata": {},
     "output_type": "execute_result"
    }
   ],
   "source": [
    "# 4 balls (only) are white\n",
    "N * P(select('W', 4), U6) == choose(8, 4) * choose(6 + 9, 2)  # (6 + 9 non-white balls)"
   ]
  },
  {
   "cell_type": "code",
   "execution_count": 283,
   "metadata": {},
   "outputs": [
    {
     "data": {
      "text/plain": [
       "0.7"
      ]
     },
     "execution_count": 283,
     "metadata": {},
     "output_type": "execute_result"
    }
   ],
   "source": [
    "from collections import Counter\n",
    "        \n",
    "class Dist(Counter): \n",
    "    \"A Distribution of {outcome: frequency} pairs.\"\n",
    "\n",
    "# Changes to previous functions to allow use of distributions (via `Dist`):\n",
    "#   - Sample spaces and events can both be specified as either a `set` or a `Dist`.\n",
    "#   - The sample space can be a non-probability distribution like `Dist(H=50, T=50)`; the results\n",
    "#   will be the same as if the sample space had been a true probability distribution like `Dist(H=1/2, T=1/2)`.\n",
    "#   - `cases` now sums the frequencies in a distribution (it previously counted the length).\n",
    "#   - `favorable` now returns a `Dist` of favorable outcomes and their frequencies (not a `set`).\n",
    "#   - Redefines `Fraction` to use `\"/\"`, not `fractions.Fraction`, because frequencies might be floats.\n",
    "#   - `P` is unchanged.\n",
    "\n",
    "def cases(outcomes): \n",
    "    \"The total frequency of all the outcomes.\"\n",
    "    return sum(Dist(outcomes).values())\n",
    "\n",
    "def favorable(event, space):\n",
    "    \"A distribution of outcomes from the sample space that are in the event.\"\n",
    "    space = Dist(space)\n",
    "    return Dist({x: space[x] \n",
    "                for x in space if x in event})\n",
    "\n",
    "def Fraction(n, d): return n / d\n",
    "    \n",
    "# multiple ways to define a distribution\n",
    "assert Dist(H=5, T=4) == Dist({'H': 5}, T=4) == Dist('TTTT', H=5) == Dist('THHHTTHHT')\n",
    "\n",
    "# Example: probability of rolling an even number with a crooked die that is loaded to prefer 6:\n",
    "Crooked = Dist({1: 0.1, 2: 0.1, 3: 0.1, 4: 0.1, 5: 0.1, 6: 0.5})\n",
    "P(even, Crooked) # now using new versions of cases, favorable and Fraction\n"
   ]
  },
  {
   "cell_type": "code",
   "execution_count": 284,
   "metadata": {},
   "outputs": [
    {
     "data": {
      "text/plain": [
       "0.30000000000000004"
      ]
     },
     "execution_count": 284,
     "metadata": {},
     "output_type": "execute_result"
    }
   ],
   "source": [
    "# vs getting an odd\n",
    "P(odd, Crooked) # now using new versions of cases, favorable and Fraction\n"
   ]
  },
  {
   "attachments": {},
   "cell_type": "markdown",
   "metadata": {},
   "source": [
    "### Allowing predicates to be used as events\n",
    "\n",
    "To calculate the probability of an even die roll, we've been using\n",
    "\n",
    "even = {2, 4, 6}\n",
    "\n",
    "Which makes us alter the events if we were to change the die face number.\n",
    "\n",
    "It is much more practical to allow events to be computed in this case and\n",
    "redefine `favorable` once again:"
   ]
  },
  {
   "cell_type": "code",
   "execution_count": 285,
   "metadata": {},
   "outputs": [
    {
     "data": {
      "text/plain": [
       "Dist({2: 1, 4: 1, 6: 1})"
      ]
     },
     "execution_count": 285,
     "metadata": {},
     "output_type": "execute_result"
    }
   ],
   "source": [
    "def even(n): return n % 2 == 0\n",
    "\n",
    "def favorable(event, space):\n",
    "    \"A distribution of outcomes from the sample space that are in the event.\"\n",
    "    if callable(event):\n",
    "        event = {x for x in space if event(x)}\n",
    "    space = Dist(space)\n",
    "    return Dist({x: space[x] \n",
    "                 for x in space if x in event})\n",
    "    \n",
    "favorable(even, D)"
   ]
  },
  {
   "cell_type": "code",
   "execution_count": 286,
   "metadata": {},
   "outputs": [
    {
     "data": {
      "text/plain": [
       "0.5"
      ]
     },
     "execution_count": 286,
     "metadata": {},
     "output_type": "execute_result"
    }
   ],
   "source": [
    "P(even, D)"
   ]
  },
  {
   "attachments": {},
   "cell_type": "markdown",
   "metadata": {},
   "source": [
    "The sample space (die) can also we computed dynamically:"
   ]
  },
  {
   "cell_type": "code",
   "execution_count": 287,
   "metadata": {},
   "outputs": [
    {
     "data": {
      "text/plain": [
       "Dist({2: 1, 4: 1, 6: 1, 8: 1, 10: 1, 12: 1})"
      ]
     },
     "execution_count": 287,
     "metadata": {},
     "output_type": "execute_result"
    }
   ],
   "source": [
    "def die(n): return set(range(1, n + 1))\n",
    "\n",
    "favorable(even, die(12))"
   ]
  },
  {
   "cell_type": "code",
   "execution_count": 288,
   "metadata": {},
   "outputs": [
    {
     "data": {
      "text/plain": [
       "0.5"
      ]
     },
     "execution_count": 288,
     "metadata": {},
     "output_type": "execute_result"
    }
   ],
   "source": [
    "P(even, die(12))"
   ]
  },
  {
   "cell_type": "code",
   "execution_count": 289,
   "metadata": {},
   "outputs": [
    {
     "data": {
      "text/plain": [
       "0.5"
      ]
     },
     "execution_count": 289,
     "metadata": {},
     "output_type": "execute_result"
    }
   ],
   "source": [
    "P(even, die(2000))"
   ]
  },
  {
   "cell_type": "code",
   "execution_count": 290,
   "metadata": {},
   "outputs": [
    {
     "data": {
      "text/plain": [
       "0.49975012493753124"
      ]
     },
     "execution_count": 290,
     "metadata": {},
     "output_type": "execute_result"
    }
   ],
   "source": [
    "P(even, die(2001))"
   ]
  },
  {
   "cell_type": "code",
   "execution_count": 291,
   "metadata": {},
   "outputs": [
    {
     "name": "stdout",
     "output_type": "stream",
     "text": [
      "P(is_prime, sum_dice(1)) = 0.5\n",
      "P(is_prime, sum_dice(2)) = 0.417\n",
      "P(is_prime, sum_dice(3)) = 0.338\n",
      "P(is_prime, sum_dice(4)) = 0.333\n",
      "P(is_prime, sum_dice(5)) = 0.317\n",
      "P(is_prime, sum_dice(6)) = 0.272\n",
      "P(is_prime, sum_dice(7)) = 0.242\n",
      "P(is_prime, sum_dice(8)) = 0.236\n"
     ]
    }
   ],
   "source": [
    "#\n",
    "# Calculate the probability that the sum of rolling `d` 6-sided dice is prime:\n",
    "#\n",
    "\n",
    "def sum_dice(d): return Dist(sum(dice) for dice in itertools.product(D, repeat=d))\n",
    "\n",
    "def is_prime(n): return (n > 1 and not any(n % i == 0 for i in range(2, n)))\n",
    "\n",
    "for d in range(1, 9):\n",
    "    p = P(is_prime, sum_dice(d))\n",
    "    print(f\"P(is_prime, sum_dice({d})) = {round(p, 3)}\")"
   ]
  },
  {
   "attachments": {},
   "cell_type": "markdown",
   "metadata": {},
   "source": [
    "### Coin toss game (Fermat & Pascal)\n",
    "\n",
    "Consider a gambling game consisting of tossing a coin repeatedly. \n",
    "Player H wins the game as soon as a total of 10 heads come up, and T wins if a\n",
    "total of 10 tails come up before H wins. \n",
    "If the game is interrupted when H has 8 heads and T has 7 tails, \n",
    "how should the pot of money (which happens to be 100 Francs) be split?"
   ]
  },
  {
   "cell_type": "code",
   "execution_count": 292,
   "metadata": {},
   "outputs": [],
   "source": [
    "def win_unfinished_game(h, t):\n",
    "    \"The probability that H will win the unfinished game, given the number of points `h` and `t` needed by H and T to win.\"\n",
    "    return P(at_least(h, 'h'), finishes(h, t))\n",
    "\n",
    "def at_least(n, item):\n",
    "    \"The event of getting at least n instances of item in an outcome.\"\n",
    "    return lambda outcome: outcome.count(item) >= n\n",
    "    \n",
    "def finishes(h, t):\n",
    "    \"All finishes of a game where player H needs h points to win and T needs t.\"\n",
    "    tosses = ['ht'] * (h + t - 1)\n",
    "    return set(itertools.product(*tosses))"
   ]
  },
  {
   "cell_type": "code",
   "execution_count": 293,
   "metadata": {},
   "outputs": [
    {
     "data": {
      "text/plain": [
       "{('h', 'h', 'h', 'h'),\n",
       " ('h', 'h', 'h', 't'),\n",
       " ('h', 'h', 't', 'h'),\n",
       " ('h', 'h', 't', 't'),\n",
       " ('h', 't', 'h', 'h'),\n",
       " ('h', 't', 'h', 't'),\n",
       " ('h', 't', 't', 'h'),\n",
       " ('h', 't', 't', 't'),\n",
       " ('t', 'h', 'h', 'h'),\n",
       " ('t', 'h', 'h', 't'),\n",
       " ('t', 'h', 't', 'h'),\n",
       " ('t', 'h', 't', 't'),\n",
       " ('t', 't', 'h', 'h'),\n",
       " ('t', 't', 'h', 't'),\n",
       " ('t', 't', 't', 'h'),\n",
       " ('t', 't', 't', 't')}"
      ]
     },
     "execution_count": 293,
     "metadata": {},
     "output_type": "execute_result"
    }
   ],
   "source": [
    "endings = finishes(2, 3) # current state, where H needs 2 coin tosses to win and T needs 3\n",
    "# 16 equiprobable endings\n",
    "endings"
   ]
  },
  {
   "cell_type": "code",
   "execution_count": 294,
   "metadata": {},
   "outputs": [
    {
     "data": {
      "text/plain": [
       "Dist({('t', 'h', 'h', 't'): 1,\n",
       "      ('t', 'h', 't', 'h'): 1,\n",
       "      ('h', 'h', 't', 'h'): 1,\n",
       "      ('h', 't', 'h', 'h'): 1,\n",
       "      ('h', 'h', 't', 't'): 1,\n",
       "      ('h', 'h', 'h', 'h'): 1,\n",
       "      ('h', 't', 'h', 't'): 1,\n",
       "      ('t', 't', 'h', 'h'): 1,\n",
       "      ('h', 'h', 'h', 't'): 1,\n",
       "      ('h', 't', 't', 'h'): 1,\n",
       "      ('t', 'h', 'h', 'h'): 1})"
      ]
     },
     "execution_count": 294,
     "metadata": {},
     "output_type": "execute_result"
    }
   ],
   "source": [
    "# of which 11 are favorable to player H who needs 2 tosses\n",
    "favorable(at_least(2, 'h'), endings)"
   ]
  },
  {
   "cell_type": "code",
   "execution_count": 295,
   "metadata": {},
   "outputs": [
    {
     "data": {
      "text/plain": [
       "Dist({('h', 't', 't', 't'): 1,\n",
       "      ('t', 't', 't', 't'): 1,\n",
       "      ('t', 'h', 't', 't'): 1,\n",
       "      ('t', 't', 't', 'h'): 1,\n",
       "      ('t', 't', 'h', 't'): 1})"
      ]
     },
     "execution_count": 295,
     "metadata": {},
     "output_type": "execute_result"
    }
   ],
   "source": [
    "# and of course only 16 - 11 are favorable to player T\n",
    "favorable(at_least(3, 't'), endings)"
   ]
  },
  {
   "cell_type": "code",
   "execution_count": 296,
   "metadata": {},
   "outputs": [
    {
     "data": {
      "text/plain": [
       "68.75"
      ]
     },
     "execution_count": 296,
     "metadata": {},
     "output_type": "execute_result"
    }
   ],
   "source": [
    "# If we need to justly split 100 currency artefacts between the two players, H will get:\n",
    "100 * win_unfinished_game(2, 3)"
   ]
  },
  {
   "cell_type": "code",
   "execution_count": 297,
   "metadata": {},
   "outputs": [
    {
     "name": "stdout",
     "output_type": "stream",
     "text": [
      "H needs 2 tosses, T needs 9 tosses - H gets: 98.93%\n",
      "H needs 2 tosses, T needs 8 tosses - H gets: 98.05%\n",
      "H needs 2 tosses, T needs 7 tosses - H gets: 96.48%\n",
      "H needs 2 tosses, T needs 6 tosses - H gets: 93.75%\n",
      "H needs 2 tosses, T needs 5 tosses - H gets: 89.06%\n",
      "H needs 2 tosses, T needs 4 tosses - H gets: 81.25%\n",
      "H needs 2 tosses, T needs 3 tosses - H gets: 68.75%\n",
      "H needs 2 tosses, T needs 2 tosses - H gets: 50.0%\n",
      "H needs 2 tosses, T needs 1 tosses - H gets: 25.0%\n",
      "H needs 2 tosses, T needs 0 tosses - H gets: 0.0%\n"
     ]
    }
   ],
   "source": [
    "for t_tosses_to_win in reversed(range(10)):\n",
    "    print(f\"H needs 2 tosses, T needs {t_tosses_to_win} tosses - H gets: {round(100 * win_unfinished_game(2, t_tosses_to_win), 2)}%\")"
   ]
  },
  {
   "attachments": {},
   "cell_type": "markdown",
   "metadata": {},
   "source": [
    "> Which of the following three propositions has the greatest chance of success? \n",
    "> 1. Six fair dice are tossed independently and at least one “6” appears. \n",
    "> 2. Twelve fair dice are tossed independently and at least two “6”s appear. \n",
    "> 3. Eighteen fair dice are tossed independently and at least three “6”s appear."
   ]
  },
  {
   "cell_type": "code",
   "execution_count": 302,
   "metadata": {},
   "outputs": [
    {
     "data": {
      "text/plain": [
       "Dist({'6666': 0.0007716049382716049,\n",
       "      '666?': 0.0038580246913580245,\n",
       "      '66?6': 0.0038580246913580245,\n",
       "      '66??': 0.019290123456790126,\n",
       "      '6?66': 0.0038580246913580245,\n",
       "      '6?6?': 0.019290123456790126,\n",
       "      '6??6': 0.019290123456790126,\n",
       "      '6???': 0.09645061728395063,\n",
       "      '?666': 0.0038580246913580245,\n",
       "      '?66?': 0.019290123456790122,\n",
       "      '?6?6': 0.019290123456790122,\n",
       "      '?6??': 0.09645061728395063,\n",
       "      '??66': 0.019290123456790122,\n",
       "      '??6?': 0.09645061728395063,\n",
       "      '???6': 0.09645061728395063,\n",
       "      '????': 0.48225308641975323})"
      ]
     },
     "execution_count": 302,
     "metadata": {},
     "output_type": "execute_result"
    }
   ],
   "source": [
    "die6 = Dist({6: 1/6, '?': 5/6}) # we don't care about other possibilities\n",
    "\n",
    "# dice rollings are independent from one another. So are coin flips. \n",
    "# Would not apply to e.g. removing balls from bags, etc. where order matters\n",
    "# When order matters -> conditional probability is what we're looking at.\n",
    "def joint(A, B, combine='{}{}'.format):\n",
    "    \"\"\"The joint distribution of two independent and identical distributions (IID). \n",
    "    Result is all entries of the form {'ab': frequency(a) * frequency(b)}\"\"\"\n",
    "    return Dist({combine(a, b): A[a] * B[b]\n",
    "                 for a in A for b in B})\n",
    "    \n",
    "def dice_prob(n, die):\n",
    "    \"Joint probability distribution from rolling `n` dice.\"\n",
    "    if n == 1:\n",
    "        return die\n",
    "    else:\n",
    "        return joint(die, dice_prob(n - 1, die))\n",
    "    \n",
    "dice_prob(4, die6)"
   ]
  },
  {
   "cell_type": "code",
   "execution_count": 306,
   "metadata": {},
   "outputs": [
    {
     "name": "stdout",
     "output_type": "stream",
     "text": [
      "0.665102023319616 <-- we're better off rolling six dice\n",
      "0.61866737373231\n",
      "0.5973456859477678\n"
     ]
    }
   ],
   "source": [
    "# going back to the original question:\n",
    "print(P(at_least(1, '6'), dice_prob(6, die6)), \"<-- we're better off rolling six dice and hoping for 1 six\") \n",
    "print(P(at_least(2, '6'), dice_prob(12, die6)))\n",
    "print(P(at_least(3, '6'), dice_prob(18, die6)))"
   ]
  },
  {
   "attachments": {},
   "cell_type": "markdown",
   "metadata": {},
   "source": [
    "\n",
    "## References\n",
    "\n",
    "- Peter Norvig's [ipynb](https://github.com/norvig/pytudes/blob/main/ipynb)\n",
    "-"
   ]
  }
 ],
 "metadata": {
  "kernelspec": {
   "display_name": "Python 3",
   "language": "python",
   "name": "python3"
  },
  "language_info": {
   "codemirror_mode": {
    "name": "ipython",
    "version": 3
   },
   "file_extension": ".py",
   "mimetype": "text/x-python",
   "name": "python",
   "nbconvert_exporter": "python",
   "pygments_lexer": "ipython3",
   "version": "3.10.7"
  },
  "orig_nbformat": 4,
  "vscode": {
   "interpreter": {
    "hash": "2e042ac6df051bd220b87b1a52ea5c2603f84b3b8808cab67b8baac889833ce9"
   }
  }
 },
 "nbformat": 4,
 "nbformat_minor": 2
}
